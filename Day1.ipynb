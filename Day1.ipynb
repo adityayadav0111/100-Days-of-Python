{
 "cells": [
  {
   "cell_type": "markdown",
   "id": "ccfdd312-7049-4b5f-b592-2382683cf8d8",
   "metadata": {},
   "source": [
    "## Python Output"
   ]
  },
  {
   "cell_type": "markdown",
   "id": "6cb4f392-ddc9-42ba-863b-9fa5d821470f",
   "metadata": {},
   "source": [
    "## Print()"
   ]
  },
  {
   "cell_type": "code",
   "execution_count": 4,
   "id": "8a636952-9a5f-4277-88e1-b4a7472c0a8d",
   "metadata": {},
   "outputs": [
    {
     "name": "stdout",
     "output_type": "stream",
     "text": [
      "Hello World\n"
     ]
    }
   ],
   "source": [
    "## Python is case sensitive langauge\n",
    "print(\"Hello World\")"
   ]
  },
  {
   "cell_type": "code",
   "execution_count": 6,
   "id": "92e4070d-748d-4b34-8ad3-a342acca50ca",
   "metadata": {},
   "outputs": [
    {
     "ename": "SyntaxError",
     "evalue": "invalid syntax. Perhaps you forgot a comma? (3449611317.py, line 1)",
     "output_type": "error",
     "traceback": [
      "\u001b[1;36m  Cell \u001b[1;32mIn[6], line 1\u001b[1;36m\u001b[0m\n\u001b[1;33m    print(Hello world)\u001b[0m\n\u001b[1;37m          ^\u001b[0m\n\u001b[1;31mSyntaxError\u001b[0m\u001b[1;31m:\u001b[0m invalid syntax. Perhaps you forgot a comma?\n"
     ]
    }
   ],
   "source": [
    "print(Hello world)   ##syntax error"
   ]
  },
  {
   "cell_type": "code",
   "execution_count": 8,
   "id": "55371c9e-644f-4290-90f9-45c80c37aa8c",
   "metadata": {},
   "outputs": [
    {
     "name": "stdout",
     "output_type": "stream",
     "text": [
      "4\n"
     ]
    }
   ],
   "source": [
    "print(4)"
   ]
  },
  {
   "cell_type": "code",
   "execution_count": 10,
   "id": "fd2fb6a9-dfdb-4195-b18a-b49c9d01335a",
   "metadata": {},
   "outputs": [
    {
     "name": "stdout",
     "output_type": "stream",
     "text": [
      "True\n"
     ]
    }
   ],
   "source": [
    "print(True)"
   ]
  },
  {
   "cell_type": "code",
   "execution_count": 12,
   "id": "403c6587-6053-497f-847f-16cd8b04f6f8",
   "metadata": {},
   "outputs": [
    {
     "name": "stdout",
     "output_type": "stream",
     "text": [
      "Hello 1 True 6.7\n"
     ]
    }
   ],
   "source": [
    "## Multiple\n",
    "print('Hello',1,True,6.7)"
   ]
  },
  {
   "cell_type": "markdown",
   "id": "cc1e692c-071d-47fa-a6fa-5d1385f6645d",
   "metadata": {},
   "source": [
    "### We can see yaha space between each printable item. How?? Bcoz we have sep=' ' parameter in print statement"
   ]
  },
  {
   "cell_type": "markdown",
   "id": "c6b62f00-b9a5-4bcf-b455-5608b71c7e18",
   "metadata": {},
   "source": [
    " # Keyword arguments"
   ]
  },
  {
   "cell_type": "markdown",
   "id": "a28a58c1-3b9e-4686-ad9e-8448e5f812ba",
   "metadata": {},
   "source": [
    "## Sep"
   ]
  },
  {
   "cell_type": "code",
   "execution_count": 19,
   "id": "4de8b0f6-150a-4a5e-acd9-4a202be5aebd",
   "metadata": {},
   "outputs": [
    {
     "name": "stdout",
     "output_type": "stream",
     "text": [
      "aditya-sabhajeet-yadav-1112004\n"
     ]
    }
   ],
   "source": [
    "print('aditya','sabhajeet','yadav',1112004,sep='-')"
   ]
  },
  {
   "cell_type": "markdown",
   "id": "71b00cb7-945a-4a3c-93d9-02d88a4f55de",
   "metadata": {},
   "source": [
    "## end"
   ]
  },
  {
   "cell_type": "code",
   "execution_count": 25,
   "id": "2a879495-7cdf-4186-90c6-63cde4ea08f4",
   "metadata": {},
   "outputs": [
    {
     "name": "stdout",
     "output_type": "stream",
     "text": [
      "Hello\n",
      "World\n"
     ]
    }
   ],
   "source": [
    "print('Hello')  ##It will print World in next line since end='\\n'\n",
    "print('World')"
   ]
  },
  {
   "cell_type": "code",
   "execution_count": 27,
   "id": "ca75d928-45a8-4826-9208-4aa4fd7badbd",
   "metadata": {},
   "outputs": [
    {
     "name": "stdout",
     "output_type": "stream",
     "text": [
      "hello-World\n"
     ]
    }
   ],
   "source": [
    "## Changing End='-'\n",
    "print('hello',end='-')\n",
    "print('World')"
   ]
  },
  {
   "cell_type": "markdown",
   "id": "0b85140b-de0f-493a-bbcb-e872b3398868",
   "metadata": {},
   "source": [
    "## DataType"
   ]
  },
  {
   "cell_type": "markdown",
   "id": "1d76a0a3-eb0b-4245-9d9b-d3d2f1376b21",
   "metadata": {},
   "source": [
    "## Basic data types or Scalar types (Single Value)"
   ]
  },
  {
   "cell_type": "code",
   "execution_count": 34,
   "id": "fb0863c6-5841-47b2-84bf-b8eac3e73a4d",
   "metadata": {},
   "outputs": [
    {
     "name": "stdout",
     "output_type": "stream",
     "text": [
      "1\n",
      "inf\n"
     ]
    }
   ],
   "source": [
    "## 1. Integer (int)\n",
    "print(1)\n",
    "## It can Support till this number 1*10^308  (Basically can handle bade numbers)\n",
    "print(1e309)   ## Infinite (read as: \"1 times 10 raised to 309\")"
   ]
  },
  {
   "cell_type": "code",
   "execution_count": 38,
   "id": "176b06e8-8562-4b94-9a13-8074f8aaf00f",
   "metadata": {},
   "outputs": [
    {
     "name": "stdout",
     "output_type": "stream",
     "text": [
      "8.55\n",
      "1.2e+308\n"
     ]
    }
   ],
   "source": [
    "## 2. Float(float)   ( isko Decimal bol sakta hai par float hai)\n",
    "print(8.55)\n",
    "## It can too support till 2.3*10^308\n",
    "print(1.2e308)"
   ]
  },
  {
   "cell_type": "code",
   "execution_count": 42,
   "id": "2c6f7a4f-323d-450e-bd9a-03d849441a3f",
   "metadata": {},
   "outputs": [
    {
     "name": "stdout",
     "output_type": "stream",
     "text": [
      "True\n",
      "False\n"
     ]
    }
   ],
   "source": [
    "## 3. Boolean(bool)\n",
    "print(True)\n",
    "print(False)"
   ]
  },
  {
   "cell_type": "code",
   "execution_count": 44,
   "id": "6c0775be-0e72-4ec7-9aad-f811d5461e59",
   "metadata": {},
   "outputs": [
    {
     "name": "stdout",
     "output_type": "stream",
     "text": [
      "Hello World\n"
     ]
    }
   ],
   "source": [
    "## 4. Text/String (Str) ( There is no char datatype just like we had char in Java Bcos  string can handle that)\n",
    "print('Hello World')"
   ]
  },
  {
   "cell_type": "code",
   "execution_count": 48,
   "id": "d5abf5cf-8cf6-4789-a010-ed19c73e28cd",
   "metadata": {},
   "outputs": [
    {
     "name": "stdout",
     "output_type": "stream",
     "text": [
      "(4+5j)\n"
     ]
    }
   ],
   "source": [
    "## 5. Complex(complex)\n",
    "print(4+5j)   #not i"
   ]
  },
  {
   "cell_type": "markdown",
   "id": "3e257f99-7314-49c0-a705-6b6deac11769",
   "metadata": {},
   "source": [
    "## Collections or Data structures"
   ]
  },
  {
   "cell_type": "code",
   "execution_count": 50,
   "id": "6612d699-06f1-4e66-bb0d-b0518559a078",
   "metadata": {},
   "outputs": [
    {
     "name": "stdout",
     "output_type": "stream",
     "text": [
      "[1, 2, 3, 4, 5]\n"
     ]
    }
   ],
   "source": [
    "## 6. List -> C -> Array\n",
    "print([1,2,3,4,5])"
   ]
  },
  {
   "cell_type": "code",
   "execution_count": 52,
   "id": "52883885-049d-42c3-b1c7-7c2c742071fe",
   "metadata": {},
   "outputs": [
    {
     "name": "stdout",
     "output_type": "stream",
     "text": [
      "(1, 2, 3, 4, 5)\n"
     ]
    }
   ],
   "source": [
    "## 7. Tuple\n",
    "print((1,2,3,4,5))"
   ]
  },
  {
   "cell_type": "code",
   "execution_count": 54,
   "id": "60db43e5-aa59-481f-bd25-e0f8fc359fc0",
   "metadata": {},
   "outputs": [
    {
     "name": "stdout",
     "output_type": "stream",
     "text": [
      "{1, 2, 3, 4}\n"
     ]
    }
   ],
   "source": [
    "## 8. Set\n",
    "print({1,2,3,4})"
   ]
  },
  {
   "cell_type": "code",
   "execution_count": 56,
   "id": "f5301440-cfe0-45d9-bb69-7778a9f948ac",
   "metadata": {},
   "outputs": [
    {
     "name": "stdout",
     "output_type": "stream",
     "text": [
      "{'name': 'aditya', 'surname': 'yadav'}\n"
     ]
    }
   ],
   "source": [
    "## 9. Dictionary -Key-Value Pairs\n",
    "print({'name':'aditya','surname':'yadav'})"
   ]
  },
  {
   "cell_type": "markdown",
   "id": "a98bce44-5997-4f7c-9428-315f144c3aa9",
   "metadata": {},
   "source": [
    "## Type()"
   ]
  },
  {
   "cell_type": "code",
   "execution_count": 79,
   "id": "cdaa1956-b14a-4783-8b41-377d2295e867",
   "metadata": {},
   "outputs": [
    {
     "data": {
      "text/plain": [
       "dict"
      ]
     },
     "execution_count": 79,
     "metadata": {},
     "output_type": "execute_result"
    }
   ],
   "source": [
    "type({1:1})"
   ]
  },
  {
   "cell_type": "markdown",
   "id": "82e0b0f8-25d0-451e-b3f7-795428ff93a7",
   "metadata": {},
   "source": [
    "# Variables"
   ]
  },
  {
   "cell_type": "markdown",
   "id": "d363a8f6-c8c7-4d8e-b106-f2c1cc9d11d5",
   "metadata": {},
   "source": [
    "### It is containers which is used to store data for future use."
   ]
  },
  {
   "cell_type": "code",
   "execution_count": 99,
   "id": "f8fdc1b7-de37-485b-9a64-1e62a1ce17cd",
   "metadata": {},
   "outputs": [
    {
     "name": "stdout",
     "output_type": "stream",
     "text": [
      "aditya\n"
     ]
    }
   ],
   "source": [
    "name ='aditya'  ## We dont want to specify dtype of variable in py. As py is smart enough to detect it.. whereas in C/Java/C++ it is needed\n",
    "print(name)"
   ]
  },
  {
   "cell_type": "markdown",
   "id": "73c84cc1-d0d6-4996-aaf3-833b801fc385",
   "metadata": {},
   "source": [
    "## Dynamic Typing"
   ]
  },
  {
   "cell_type": "code",
   "execution_count": 104,
   "id": "c25574a6-f072-427b-9d51-671029a83e3d",
   "metadata": {},
   "outputs": [],
   "source": [
    "## In Python you dont need to specify datatype of variable instead humara intrepreter automatically detects which datatype to be assigned \n",
    "no = 4  ## Int assign karega"
   ]
  },
  {
   "cell_type": "markdown",
   "id": "0d0973fe-748c-4547-9d31-722124e239f9",
   "metadata": {},
   "source": [
    "## Static Typing  (Used in C,C++,Java)"
   ]
  },
  {
   "cell_type": "code",
   "execution_count": 107,
   "id": "0d63b23d-04c8-4a12-ad06-4403f6e97b6e",
   "metadata": {},
   "outputs": [
    {
     "ename": "SyntaxError",
     "evalue": "invalid syntax (2305162206.py, line 2)",
     "output_type": "error",
     "traceback": [
      "\u001b[1;36m  Cell \u001b[1;32mIn[107], line 2\u001b[1;36m\u001b[0m\n\u001b[1;33m    int no =1\u001b[0m\n\u001b[1;37m        ^\u001b[0m\n\u001b[1;31mSyntaxError\u001b[0m\u001b[1;31m:\u001b[0m invalid syntax\n"
     ]
    }
   ],
   "source": [
    "## Here we need to specify datatype of variable\n",
    "int no = 1  #C mein"
   ]
  },
  {
   "cell_type": "markdown",
   "id": "f2043bfa-cb0b-47db-8450-a683cc7b8ffc",
   "metadata": {},
   "source": [
    "## Dynamic Binding"
   ]
  },
  {
   "cell_type": "code",
   "execution_count": 110,
   "id": "c677c60c-2759-4eb7-ae70-f969990e99d6",
   "metadata": {},
   "outputs": [
    {
     "name": "stdout",
     "output_type": "stream",
     "text": [
      "1\n",
      "aditya\n"
     ]
    }
   ],
   "source": [
    "a = 1\n",
    "print(1)\n",
    "a='aditya'\n",
    "print(a)"
   ]
  },
  {
   "cell_type": "markdown",
   "id": "cfba5b48-acf2-4a23-aee3-a32d56de13be",
   "metadata": {},
   "source": [
    "## Static Binding"
   ]
  },
  {
   "cell_type": "code",
   "execution_count": null,
   "id": "65f48766-0798-44ff-87f1-fc7df0375177",
   "metadata": {},
   "outputs": [],
   "source": [
    "int a = 4\n",
    "## Now throughout the program ye sirf integer hi store karega and not anything else (1,2,3) but not (string,complex,etc)"
   ]
  },
  {
   "cell_type": "markdown",
   "id": "30ced060-d634-408e-a1a7-069d63d22500",
   "metadata": {},
   "source": [
    "## Variable Definition"
   ]
  },
  {
   "cell_type": "code",
   "execution_count": 116,
   "id": "51e15ad2-3dc7-4da0-894e-cd44daeef2a7",
   "metadata": {},
   "outputs": [
    {
     "name": "stdout",
     "output_type": "stream",
     "text": [
      "1 2 3\n"
     ]
    }
   ],
   "source": [
    "## Aam Zindagi\n",
    "a=1\n",
    "b=2\n",
    "c=3\n",
    "print(a,b,c)"
   ]
  },
  {
   "cell_type": "code",
   "execution_count": 118,
   "id": "cedaec69-8eeb-4543-85de-346c003835da",
   "metadata": {},
   "outputs": [
    {
     "name": "stdout",
     "output_type": "stream",
     "text": [
      "1 2 3\n"
     ]
    }
   ],
   "source": [
    "## Mentos Zindagi\n",
    "a,b,c=1,2,3\n",
    "print(a,b,c)"
   ]
  },
  {
   "cell_type": "code",
   "execution_count": 120,
   "id": "4d82c898-acd3-4e46-b120-83c19f40ec87",
   "metadata": {},
   "outputs": [
    {
     "name": "stdout",
     "output_type": "stream",
     "text": [
      "5 5 5\n"
     ]
    }
   ],
   "source": [
    "## Mentoz Zindagi\n",
    "a=b=c=5\n",
    "print(a,b,c)"
   ]
  },
  {
   "cell_type": "markdown",
   "id": "d046e5b4-27c6-4a94-99df-22877fdbe254",
   "metadata": {},
   "source": [
    "# Keywords"
   ]
  },
  {
   "cell_type": "code",
   "execution_count": 129,
   "id": "58ed7c2f-a30f-4217-8ee9-87da37c9f4a4",
   "metadata": {},
   "outputs": [],
   "source": [
    "## Its reserved words used by Compiler/Interpreter to understand the code (from high level(English) code to machine code ko transform karne ke liye)\n",
    "## 33 words"
   ]
  },
  {
   "cell_type": "markdown",
   "id": "ca5fae16-0a29-4a12-9c1a-8d77e58486ea",
   "metadata": {},
   "source": [
    "# Indentifiers"
   ]
  },
  {
   "cell_type": "code",
   "execution_count": 133,
   "id": "e8f286d0-6366-48e0-be0e-15948f11cadb",
   "metadata": {},
   "outputs": [
    {
     "name": "stdout",
     "output_type": "stream",
     "text": [
      "sonu\n"
     ]
    }
   ],
   "source": [
    "## Name given to variable,class,method \n",
    "# Rules\n",
    "# 1. You cant start with digit\n",
    "# 1name = 'aditya'\n",
    "# print(1name) --error\n",
    "# 2. You can use upper/lower case, digits,but in special case only '_'(underscore)\n",
    "_ = 'sonu'\n",
    "print(_)\n",
    "## 3. Identifiers cannot be keywords"
   ]
  },
  {
   "cell_type": "markdown",
   "id": "c002fa11-870a-4bb4-9d83-ca4aa9bfd867",
   "metadata": {},
   "source": [
    "## User Input"
   ]
  },
  {
   "cell_type": "code",
   "execution_count": 1,
   "id": "265c3d5e-2c6c-46b1-b99f-d79660a9dbf6",
   "metadata": {},
   "outputs": [
    {
     "name": "stdout",
     "output_type": "stream",
     "text": [
      " aditya\n"
     ]
    },
    {
     "data": {
      "text/plain": [
       "'aditya'"
      ]
     },
     "execution_count": 1,
     "metadata": {},
     "output_type": "execute_result"
    }
   ],
   "source": [
    "# Static and Dyanmic software\n",
    "input()"
   ]
  },
  {
   "cell_type": "code",
   "execution_count": 3,
   "id": "9e3c54cd-6e98-47d4-be6a-6f5d710fa720",
   "metadata": {},
   "outputs": [
    {
     "name": "stdout",
     "output_type": "stream",
     "text": [
      "Enter your name aditya\n"
     ]
    },
    {
     "data": {
      "text/plain": [
       "'aditya'"
      ]
     },
     "execution_count": 3,
     "metadata": {},
     "output_type": "execute_result"
    }
   ],
   "source": [
    "input(\"Enter your name\")"
   ]
  },
  {
   "cell_type": "markdown",
   "id": "b2aaafa7-5467-42f1-869e-13cb9d142275",
   "metadata": {},
   "source": [
    "# Tip for solving problem\n",
    "- Make a strategy in mind\n",
    "- comment all steps\n",
    "- then fill each steps with code "
   ]
  },
  {
   "cell_type": "code",
   "execution_count": 28,
   "id": "9ba576d6-eed3-432f-8a5a-a3951572e223",
   "metadata": {},
   "outputs": [
    {
     "name": "stdout",
     "output_type": "stream",
     "text": [
      "Enter the number 2\n",
      "Enter the number 3\n"
     ]
    },
    {
     "name": "stdout",
     "output_type": "stream",
     "text": [
      "5\n",
      "<class 'str'>\n"
     ]
    }
   ],
   "source": [
    "## Take input from users\n",
    "input1 = input(\"Enter the number\")   ## Pehle input lega..kaunsa input i.e integer\n",
    "input2 = input(\"Enter the number\")\n",
    "## Add\n",
    "output = int(input1) + int(input2)  ## Temporary hai still theres no change in OG\n",
    "## display\n",
    "print(output)\n",
    "print(type(input1))"
   ]
  },
  {
   "cell_type": "markdown",
   "id": "388691ec-a89e-4829-a98a-f9a861cd94e8",
   "metadata": {},
   "source": [
    "Why does py takes input as string?? Bcoz STRING univeral datatype imagine 3,4+6j this can be store as string but wheras \"Mumbai\" text cant be stored as numeric"
   ]
  },
  {
   "cell_type": "markdown",
   "id": "4b5abd0c-0c14-421b-a23d-9f1cab7f9c3f",
   "metadata": {},
   "source": [
    "# Solution for above Problem: Type Coversion"
   ]
  },
  {
   "cell_type": "code",
   "execution_count": 18,
   "id": "9bb4cb61-e20d-46e1-b7fb-6a92af1fe4d1",
   "metadata": {},
   "outputs": [
    {
     "name": "stdout",
     "output_type": "stream",
     "text": [
      "7.5\n"
     ]
    }
   ],
   "source": [
    "## Implicit Vs Explicit\n",
    "# Implicit - Internally done\n",
    "print(3+4.5)"
   ]
  },
  {
   "cell_type": "code",
   "execution_count": 22,
   "id": "25cfb2e6-0587-4b51-9f38-fd491f371334",
   "metadata": {},
   "outputs": [
    {
     "data": {
      "text/plain": [
       "int"
      ]
     },
     "execution_count": 22,
     "metadata": {},
     "output_type": "execute_result"
    }
   ],
   "source": [
    "## Explicit\n",
    "## Str to int\n",
    "type(int('4'))"
   ]
  },
  {
   "cell_type": "code",
   "execution_count": 24,
   "id": "f93ffff4-38a0-4473-b715-e60eba113209",
   "metadata": {},
   "outputs": [
    {
     "ename": "TypeError",
     "evalue": "int() argument must be a string, a bytes-like object or a real number, not 'complex'",
     "output_type": "error",
     "traceback": [
      "\u001b[1;31m---------------------------------------------------------------------------\u001b[0m",
      "\u001b[1;31mTypeError\u001b[0m                                 Traceback (most recent call last)",
      "Cell \u001b[1;32mIn[24], line 1\u001b[0m\n\u001b[1;32m----> 1\u001b[0m \u001b[38;5;28mint\u001b[39m(\u001b[38;5;241m4\u001b[39m\u001b[38;5;241m+\u001b[39m\u001b[38;5;241m3\u001b[39mj)\n",
      "\u001b[1;31mTypeError\u001b[0m: int() argument must be a string, a bytes-like object or a real number, not 'complex'"
     ]
    }
   ],
   "source": [
    "int(4+3j)  ## error"
   ]
  },
  {
   "cell_type": "markdown",
   "id": "171b3d01-6cc9-49f9-a276-d438b702700e",
   "metadata": {},
   "source": [
    "## Literals"
   ]
  },
  {
   "cell_type": "markdown",
   "id": "cddcc301-6086-4cd9-a82b-d4a2697bf1e9",
   "metadata": {},
   "source": [
    "Whatever value we store in variable is called literals  Ex: a=2 Where a is variable, = is operator, 2 is literal"
   ]
  },
  {
   "cell_type": "code",
   "execution_count": 9,
   "id": "e9e206de-36bd-42ef-8189-424b1e530a63",
   "metadata": {},
   "outputs": [
    {
     "name": "stdout",
     "output_type": "stream",
     "text": [
      "10\n"
     ]
    }
   ],
   "source": [
    "## Binary Literals\n",
    "a = 0b1010\n",
    "print(a)"
   ]
  },
  {
   "cell_type": "code",
   "execution_count": 11,
   "id": "4a26bfc2-c3ea-4c4a-a10a-c6d6e9728754",
   "metadata": {},
   "outputs": [
    {
     "name": "stdout",
     "output_type": "stream",
     "text": [
      "100\n"
     ]
    }
   ],
   "source": [
    "## Decimal Literals\n",
    "a = 100\n",
    "print(a)"
   ]
  },
  {
   "cell_type": "code",
   "execution_count": 13,
   "id": "d4be50c4-a034-4827-ab15-8dca27e0f470",
   "metadata": {},
   "outputs": [
    {
     "name": "stdout",
     "output_type": "stream",
     "text": [
      "200\n"
     ]
    }
   ],
   "source": [
    "## Octal Literals\n",
    "a = 0o310\n",
    "print(a)"
   ]
  },
  {
   "cell_type": "code",
   "execution_count": 15,
   "id": "f40aca64-b3ad-4f31-89dd-92cf76a4371a",
   "metadata": {},
   "outputs": [
    {
     "name": "stdout",
     "output_type": "stream",
     "text": [
      "300\n"
     ]
    }
   ],
   "source": [
    "## Hexadecimal Literals\n",
    "a =0x12c\n",
    "print(a)"
   ]
  },
  {
   "cell_type": "code",
   "execution_count": 21,
   "id": "fdd20819-fd65-41e4-8949-3efcd8f76bdc",
   "metadata": {},
   "outputs": [],
   "source": [
    "## Float Literals\n",
    "float = 1.4\n",
    "float1 = 1.5e2 # 1.5 *10^2 = 1500   ## Scientific\n",
    "float2 = 1.5e-3 # 1.5*10^-3 = 0.0015"
   ]
  },
  {
   "cell_type": "code",
   "execution_count": 23,
   "id": "7b146d5b-9c58-457f-be87-db7101fa6c24",
   "metadata": {},
   "outputs": [
    {
     "name": "stdout",
     "output_type": "stream",
     "text": [
      "0.0015\n"
     ]
    }
   ],
   "source": [
    "print(float2)"
   ]
  },
  {
   "cell_type": "code",
   "execution_count": 29,
   "id": "19195f55-ce30-491a-bdde-59c01024bbc9",
   "metadata": {},
   "outputs": [
    {
     "name": "stdout",
     "output_type": "stream",
     "text": [
      "3.4 0.0\n"
     ]
    }
   ],
   "source": [
    "# Complex Literals\n",
    "x = 3.4j\n",
    "print(x.imag,x.real)"
   ]
  },
  {
   "cell_type": "markdown",
   "id": "9a6e02b0-af1a-4ff5-90c8-de20d4fa3dab",
   "metadata": {},
   "source": [
    "## String Representation"
   ]
  },
  {
   "cell_type": "code",
   "execution_count": 47,
   "id": "3ab6bb44-6dca-4e91-a283-be185232d614",
   "metadata": {},
   "outputs": [],
   "source": [
    "strings = ' This is a single inverted comma string'\n",
    "string2 = \" This is double inverted comma string\"\n",
    "string3 = \"\"\" This is multi-line string use for documentation\"\"\"\n",
    "String4 =\"C\"\n",
    "unicode = u\"\\U0001f600\\U0001F606\\U0001F923\"\n",
    "raw_str = r\"raw \\n String\""
   ]
  },
  {
   "cell_type": "code",
   "execution_count": 49,
   "id": "27ea50d6-66cd-449d-a0db-7a27313c82cd",
   "metadata": {},
   "outputs": [
    {
     "name": "stdout",
     "output_type": "stream",
     "text": [
      "😀😆🤣\n"
     ]
    }
   ],
   "source": [
    "print(unicode)"
   ]
  },
  {
   "cell_type": "code",
   "execution_count": 51,
   "id": "58128f82-1214-4118-ae13-ce234a6097f3",
   "metadata": {},
   "outputs": [
    {
     "name": "stdout",
     "output_type": "stream",
     "text": [
      "raw \\n String\n"
     ]
    }
   ],
   "source": [
    "print(raw_str)"
   ]
  },
  {
   "cell_type": "markdown",
   "id": "b71fa4ba-7ed3-461c-bf34-babb90a757cb",
   "metadata": {},
   "source": [
    "## Boolean"
   ]
  },
  {
   "cell_type": "code",
   "execution_count": 54,
   "id": "e7a2af99-8f64-4654-8d61-ce0fb7bceb8b",
   "metadata": {},
   "outputs": [],
   "source": [
    "a = True + 4   ## Under the hood ye True ko 1 and False 0\n",
    "b = False + 10"
   ]
  },
  {
   "cell_type": "code",
   "execution_count": 60,
   "id": "a3fe2413-94ad-4d75-958f-b6dbad759b4d",
   "metadata": {},
   "outputs": [
    {
     "name": "stdout",
     "output_type": "stream",
     "text": [
      "a: 5\n",
      "b: 10\n"
     ]
    }
   ],
   "source": [
    "print(\"a:\",a)\n",
    "print(\"b:\",b)"
   ]
  },
  {
   "cell_type": "code",
   "execution_count": 62,
   "id": "a7d335d1-c077-4b49-8705-d88d21d09df2",
   "metadata": {},
   "outputs": [
    {
     "name": "stdout",
     "output_type": "stream",
     "text": [
      "None\n"
     ]
    }
   ],
   "source": [
    "## None Literals\n",
    "a = None\n",
    "print(a)"
   ]
  },
  {
   "cell_type": "code",
   "execution_count": 64,
   "id": "e2ef76f0-2fbb-4cb7-8fd6-e9d52396b184",
   "metadata": {},
   "outputs": [
    {
     "ename": "NameError",
     "evalue": "name 'k' is not defined",
     "output_type": "error",
     "traceback": [
      "\u001b[1;31m---------------------------------------------------------------------------\u001b[0m",
      "\u001b[1;31mNameError\u001b[0m                                 Traceback (most recent call last)",
      "Cell \u001b[1;32mIn[64], line 2\u001b[0m\n\u001b[0;32m      1\u001b[0m \u001b[38;5;66;03m## Note : In py we dont declare any variable in the beginning there is no way. If we want a variable i can declare that point\u001b[39;00m\n\u001b[1;32m----> 2\u001b[0m k \n\u001b[0;32m      3\u001b[0m a\u001b[38;5;241m=\u001b[39m\u001b[38;5;241m5\u001b[39m\n\u001b[0;32m      4\u001b[0m c\u001b[38;5;241m=\u001b[39m\u001b[38;5;241m6\u001b[39m\n",
      "\u001b[1;31mNameError\u001b[0m: name 'k' is not defined"
     ]
    }
   ],
   "source": [
    "## Note : In py we dont declare any variable in the beginning there is no way. If we want a variable i can declare that point\n",
    "k \n",
    "a=5\n",
    "c=6\n",
    "print(\"Execute Program\")"
   ]
  },
  {
   "cell_type": "markdown",
   "id": "2d7e5661-86d7-4a80-b90b-39e23e5247d9",
   "metadata": {},
   "source": [
    " In Above case we we can keep k as None"
   ]
  },
  {
   "cell_type": "code",
   "execution_count": 68,
   "id": "681b8b49-6f68-4873-9d1c-43d01860014c",
   "metadata": {},
   "outputs": [],
   "source": [
    "K = None # This means at this point i dont know iska value kya hoga but in future i will fill it."
   ]
  },
  {
   "cell_type": "code",
   "execution_count": 5,
   "id": "f1531019-11cf-4a14-b0c1-7410e12cbde2",
   "metadata": {},
   "outputs": [],
   "source": [
    "k = None   ## None is for variable wheras Pass is for loops and function"
   ]
  },
  {
   "cell_type": "code",
   "execution_count": null,
   "id": "2dd46405",
   "metadata": {},
   "outputs": [],
   "source": []
  }
 ],
 "metadata": {
  "kernelspec": {
   "display_name": "Python 3 (ipykernel)",
   "language": "python",
   "name": "python3"
  },
  "language_info": {
   "codemirror_mode": {
    "name": "ipython",
    "version": 3
   },
   "file_extension": ".py",
   "mimetype": "text/x-python",
   "name": "python",
   "nbconvert_exporter": "python",
   "pygments_lexer": "ipython3",
   "version": "3.13.1"
  }
 },
 "nbformat": 4,
 "nbformat_minor": 5
}
