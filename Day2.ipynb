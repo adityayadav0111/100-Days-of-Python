{
 "cells": [
  {
   "cell_type": "code",
   "execution_count": 4,
   "id": "64611f9e-ee7c-4a43-99bf-99280e05aa7a",
   "metadata": {},
   "outputs": [
    {
     "name": "stdout",
     "output_type": "stream",
     "text": [
      "False\n"
     ]
    }
   ],
   "source": [
    "if(0.1 +0.2==0.3):\n",
    "    print('true')\n",
    "else:\n",
    "    print('False')"
   ]
  },
  {
   "cell_type": "markdown",
   "id": "7a7b00bf-e6e2-49c9-a001-30bc5d68acd0",
   "metadata": {},
   "source": [
    "## Operators\n",
    "- Arithmetic\n",
    "- Relational\n",
    "- Logical\n",
    "- Bitwise\n",
    "- Assignment\n",
    "- Membership"
   ]
  },
  {
   "cell_type": "code",
   "execution_count": 5,
   "id": "18408855-f460-40be-aedf-ad449ce24084",
   "metadata": {},
   "outputs": [],
   "source": [
    "## When we want to perform any operation on operands we use operators"
   ]
  },
  {
   "cell_type": "code",
   "execution_count": 6,
   "id": "a736b1ee-81cf-482b-99b0-f2cb8c2d83f3",
   "metadata": {},
   "outputs": [
    {
     "name": "stdout",
     "output_type": "stream",
     "text": [
      "11\n",
      "-1\n",
      "12\n",
      "2.5\n",
      "2\n",
      "1\n",
      "8\n"
     ]
    }
   ],
   "source": [
    "# Arithmetic Operator\n",
    "\n",
    "print(5+6)\n",
    "\n",
    "print(6-7)\n",
    "\n",
    "print(3*4)\n",
    "\n",
    "print(5/2)   ## Ye Floating point number dega\n",
    "\n",
    "print(5//2)  ## Ye Integer value \n",
    "\n",
    "print(3%2)  ## Modulus\n",
    "\n",
    "print(2**3)   ## Power of"
   ]
  },
  {
   "cell_type": "code",
   "execution_count": 7,
   "id": "96da5e85-26c9-45ab-81a5-064c3b0729bb",
   "metadata": {},
   "outputs": [
    {
     "name": "stdout",
     "output_type": "stream",
     "text": [
      "False\n",
      "True\n",
      "True\n",
      "False\n",
      "True\n",
      "True\n"
     ]
    }
   ],
   "source": [
    "## Relational/ Comparison Operators\n",
    "\n",
    "print(4>5)\n",
    "\n",
    "print(4<5)\n",
    "\n",
    "print(4<=5)\n",
    "\n",
    "print(4>=5)\n",
    "\n",
    "print(4==4)\n",
    "\n",
    "print(4!=5)  # Not Equal to"
   ]
  },
  {
   "cell_type": "code",
   "execution_count": 8,
   "id": "b3fdd933-d9b0-47f6-b2f9-e9ad306865c6",
   "metadata": {},
   "outputs": [
    {
     "name": "stdout",
     "output_type": "stream",
     "text": [
      "0\n",
      "1\n",
      "False\n"
     ]
    }
   ],
   "source": [
    "## Logical operator (used for logical problem)\n",
    "\n",
    "print(1 and 0)\n",
    "\n",
    "print(1 or 0)\n",
    "\n",
    "print(not 1)"
   ]
  },
  {
   "cell_type": "code",
   "execution_count": 9,
   "id": "06f04cc6-8688-4bd5-9f22-856a2a9d25ce",
   "metadata": {},
   "outputs": [
    {
     "name": "stdout",
     "output_type": "stream",
     "text": [
      "2\n",
      "3\n",
      "1\n",
      "-4\n",
      "1\n",
      "56\n"
     ]
    }
   ],
   "source": [
    "## Bitwise Operator (Operate on Binary values)\n",
    "\n",
    "## Bitwise and (&) \n",
    "print(2 & 3)\n",
    "## 2 - 010\n",
    "## 3 - 110\n",
    "##o/p- 010   (and lagaya)\n",
    "\n",
    "## Bitwise Or\n",
    "print(2 | 3)\n",
    "## 2- 010\n",
    "## 3 -110\n",
    "##o/p-110\n",
    "\n",
    "## Bitwise Xor\n",
    "print(2 ^ 3)\n",
    "\n",
    "\n",
    "## Bitwise Not\n",
    "print(~3)   ## 1 ko 0 karega and vica versa\n",
    "\n",
    "## Bitwise left shift\n",
    "print(6 >> 2)\n",
    "\n",
    "## Bitwise Right shift\n",
    "print(7 << 3)\n"
   ]
  },
  {
   "cell_type": "code",
   "execution_count": 10,
   "id": "7ebabe6d-3369-499a-a9a7-8ae547c11195",
   "metadata": {},
   "outputs": [
    {
     "name": "stdout",
     "output_type": "stream",
     "text": [
      "4\n"
     ]
    }
   ],
   "source": [
    "## Assignment Operator\n",
    "\n",
    "## = \n",
    "# a=2\n",
    "b=2\n",
    "b = b + 2\n",
    "# b +=2\n",
    "print(b)\n",
    "\n",
    "\n",
    "## Not: a++ and ++a doesnt work here in py"
   ]
  },
  {
   "cell_type": "code",
   "execution_count": 11,
   "id": "3d59192c-f784-4547-bdb7-eadb889f4cac",
   "metadata": {},
   "outputs": [
    {
     "name": "stdout",
     "output_type": "stream",
     "text": [
      "True\n",
      "True\n"
     ]
    }
   ],
   "source": [
    "## Membership Operator\n",
    "\n",
    "## Works for different collection and DS\n",
    "\n",
    "## In\n",
    "print('Adi' in \"Aditya\")   ## Hai kya???\n",
    "\n",
    "## Not in\n",
    "print(\"Adi\" not in \"Hii world\")   ## Nhi hai kya??\n"
   ]
  },
  {
   "cell_type": "code",
   "execution_count": 12,
   "id": "c36748fd-579c-46d6-a5bc-c76c0379773e",
   "metadata": {},
   "outputs": [
    {
     "name": "stdin",
     "output_type": "stream",
     "text": [
      "Enter the number 2232\n"
     ]
    },
    {
     "name": "stdout",
     "output_type": "stream",
     "text": [
      "7\n"
     ]
    }
   ],
   "source": [
    "## Take a three digit number input and add the those 3 number\n",
    "## Take the input from the user\n",
    "num = int(input(\"Enter the number\"))   #455\n",
    "## logic of the program\n",
    "a = num % 10  ## 5\n",
    "num = num // 10   ## 45\n",
    "b = num % 10  ## 5\n",
    "num = num // 10 ## 4\n",
    "c = num %10 ##or else  c=num\n",
    "## Output the addition\n",
    "print(a+b+c)"
   ]
  },
  {
   "cell_type": "markdown",
   "id": "3d09bfc9-8aa2-465f-a32c-3304606cd935",
   "metadata": {},
   "source": [
    "## Branching: \n",
    "This is way where there more than one outcome is possible for eg.If a user puts his creditionals and its correct then profile page else if not (error) error page"
   ]
  },
  {
   "cell_type": "markdown",
   "id": "b49af685-75e6-4b79-9398-6dec12cb72fa",
   "metadata": {},
   "source": [
    "## IF-Elif-Else\n",
    "- Identation\n",
    "- If\n",
    "- else\n",
    "- elif (else if)\n",
    "- nested if else"
   ]
  },
  {
   "cell_type": "code",
   "execution_count": 13,
   "id": "fe85b704-f3eb-4a44-8639-9b4410f5b0c9",
   "metadata": {},
   "outputs": [
    {
     "name": "stdin",
     "output_type": "stream",
     "text": [
      "Enter the correct gmail:  efd\n",
      "Enter the correct password:  erge\n"
     ]
    },
    {
     "name": "stdout",
     "output_type": "stream",
     "text": [
      "Bhag jao\n"
     ]
    }
   ],
   "source": [
    "## Program \n",
    "gmail = 'aditya_yadav'\n",
    "pw = 'adityayadav01'\n",
    "\n",
    "gmail_in = input(\"Enter the correct gmail: \")\n",
    "pw_in = input(\"Enter the correct password: \")\n",
    "\n",
    "if gmail_in == gmail and pw_in ==pw:\n",
    "    print(\"Sucessfully Logged in\")\n",
    "else:\n",
    "     print(\"Bhag jao\")\n",
    "    "
   ]
  },
  {
   "cell_type": "code",
   "execution_count": 14,
   "id": "4c877099-e19b-4701-b907-451b3c749e59",
   "metadata": {},
   "outputs": [
    {
     "name": "stdin",
     "output_type": "stream",
     "text": [
      "Enter the correct gmail:  xcvdg\n",
      "Enter the correct password:  efsdgd\n"
     ]
    },
    {
     "name": "stdout",
     "output_type": "stream",
     "text": [
      "Bhag jao\n"
     ]
    }
   ],
   "source": [
    "gmail = 'aditya_yadav'\n",
    "pw = 'adityayadav01'\n",
    "\n",
    "gmail_in = input(\"Enter the correct gmail: \")\n",
    "pw_in = input(\"Enter the correct password: \")\n",
    "\n",
    "if gmail_in == gmail and pw_in ==pw:\n",
    "    print(\"Sucessfully Logged in\")\n",
    "elif gmail_in == gmail and pw_in != pw:\n",
    "    print(\"Oops wrong password! Enter the password again!!!\")\n",
    "    new_pw = input(\"Enter the correct password: \")\n",
    "    if new_pw in pw:\n",
    "        print(\"Sucessfully logged in\")\n",
    "    else:\n",
    "        print(\"Tu bhagega nhi !! bulau police ko\")\n",
    "    \n",
    "else:\n",
    "     print(\"Bhag jao\")"
   ]
  },
  {
   "cell_type": "code",
   "execution_count": 15,
   "id": "ca942512-6581-4058-b8a2-9f944ef03047",
   "metadata": {},
   "outputs": [
    {
     "name": "stdin",
     "output_type": "stream",
     "text": [
      "Enter the num1:  3\n",
      "Enter the num2:  4\n",
      "Enter the num3:  5\n"
     ]
    },
    {
     "name": "stdout",
     "output_type": "stream",
     "text": [
      "Min number is:  3\n"
     ]
    }
   ],
   "source": [
    "## Find the min of 3 given number\n",
    "## input from user\n",
    "num1 = int(input('Enter the num1: '))\n",
    "num2 = int(input('Enter the num2: '))\n",
    "num3 = int(input('Enter the num3: '))\n",
    "## if num<num2: num3<num2 else num<num3\n",
    "if num1<num2:\n",
    "    if num1<num3:\n",
    "        print(\"Min number is: \",num1)\n",
    "    else:\n",
    "        print(\"Min number is: \",num3)\n",
    "else:\n",
    "    print(\"Min num is:\", num2)"
   ]
  },
  {
   "cell_type": "code",
   "execution_count": 16,
   "id": "218400fc-1261-425a-8d9b-eed62478f425",
   "metadata": {},
   "outputs": [
    {
     "name": "stdin",
     "output_type": "stream",
     "text": [
      "Enter the num1:  3\n",
      "Enter the num2:  4\n",
      "Enter the num3:  5\n"
     ]
    },
    {
     "name": "stdout",
     "output_type": "stream",
     "text": [
      "Smallest num is  3\n"
     ]
    }
   ],
   "source": [
    "num1 = int(input('Enter the num1: '))\n",
    "num2 = int(input('Enter the num2: '))\n",
    "num3 = int(input('Enter the num3: '))\n",
    "\n",
    "if num1<num2 and num1<num3:\n",
    "    print(\"Smallest num is \",num1)\n",
    "elif num2<num3:\n",
    "    print(\"smallest is \",num2)\n",
    "else:\n",
    "    print(\"Smallest is\",num3)"
   ]
  },
  {
   "cell_type": "code",
   "execution_count": 17,
   "id": "b2bd4f05-7db9-47d7-b69c-5782b5d94b11",
   "metadata": {},
   "outputs": [
    {
     "name": "stdin",
     "output_type": "stream",
     "text": [
      "Enter the num1:  34\n",
      "Enter the num2:  45\n",
      "Enter the num3:  34\n",
      "Enter the num4:  224\n"
     ]
    },
    {
     "name": "stdout",
     "output_type": "stream",
     "text": [
      "smallest 34\n"
     ]
    }
   ],
   "source": [
    "## 4 numbers\n",
    "num1 = int(input('Enter the num1: '))\n",
    "num2 = int(input('Enter the num2: '))\n",
    "num3 = int(input('Enter the num3: '))\n",
    "num4 = int(input('Enter the num4: '))\n",
    "\n",
    "if num1<num2 and num1<num3 and num1<num4:\n",
    "    print(\"Smallest num is \",num1)\n",
    "elif num2<num3 and num2<num4:\n",
    "    print(\"Smallest num is \",num2)\n",
    "elif num3<num4:\n",
    "    print(\"smallest\",num3)\n",
    "else:\n",
    "    print(\"Smallest is\",num4)"
   ]
  },
  {
   "cell_type": "code",
   "execution_count": 18,
   "id": "f4d69f11-82dd-47ba-b1ef-6ca4ee800a8e",
   "metadata": {},
   "outputs": [
    {
     "name": "stdin",
     "output_type": "stream",
     "text": [
      "Enter the num1:  456\n",
      "Enter the num2:  355\n",
      "\n",
      "Enter 1 for Addition\n",
      "Enter 2 for Subraction\n",
      "Enter 3 for Division\n",
      "Enter 4 for Multiplication 1\n"
     ]
    },
    {
     "name": "stdout",
     "output_type": "stream",
     "text": [
      "811\n"
     ]
    }
   ],
   "source": [
    "## Menu Driven Calculator\n",
    "num1 = int(input('Enter the num1: '))\n",
    "num2 = int(input('Enter the num2: '))\n",
    "\n",
    "op = int(input(\"\"\"\n",
    "Enter 1 for Addition\n",
    "Enter 2 for Subraction\n",
    "Enter 3 for Division\n",
    "Enter 4 for Multiplication\"\"\"))\n",
    "\n",
    "if op==1:\n",
    "    print(num1+num2)\n",
    "elif op ==2:\n",
    "    print(num1-num2)\n",
    "elif op==3:\n",
    "    print(num1/num2)\n",
    "else:\n",
    "    print(num1*num2)\n",
    "\n"
   ]
  },
  {
   "cell_type": "markdown",
   "id": "2aacf526-612a-4406-9b6b-bd1209afa740",
   "metadata": {},
   "source": [
    "## Modules\n",
    "- A file that has code written by someone else and idea is code reusability\n",
    "- maths\n",
    "- keywords\n",
    "- random\n",
    "- datetime"
   ]
  },
  {
   "cell_type": "code",
   "execution_count": 1,
   "id": "85611fd8-9d31-451e-96d7-137718a4405e",
   "metadata": {},
   "outputs": [],
   "source": [
    "import math"
   ]
  },
  {
   "cell_type": "code",
   "execution_count": 2,
   "id": "f4ee2d6a-8881-4f80-97a6-a7748b2f865f",
   "metadata": {},
   "outputs": [
    {
     "name": "stdout",
     "output_type": "stream",
     "text": [
      "14.0\n",
      "4\n"
     ]
    }
   ],
   "source": [
    "print(math.sqrt(196))\n",
    "print(math.ceil(3.7))\n",
    "# print(math.nan(33))"
   ]
  },
  {
   "cell_type": "code",
   "execution_count": 3,
   "id": "f712d0b8-bd58-445e-9e33-8df4736d5107",
   "metadata": {},
   "outputs": [
    {
     "name": "stdout",
     "output_type": "stream",
     "text": [
      "['False', 'None', 'True', 'and', 'as', 'assert', 'async', 'await', 'break', 'class', 'continue', 'def', 'del', 'elif', 'else', 'except', 'finally', 'for', 'from', 'global', 'if', 'import', 'in', 'is', 'lambda', 'nonlocal', 'not', 'or', 'pass', 'raise', 'return', 'try', 'while', 'with', 'yield']\n"
     ]
    }
   ],
   "source": [
    "import keyword\n",
    "print(keyword.kwlist)"
   ]
  },
  {
   "cell_type": "code",
   "execution_count": 4,
   "id": "f877b9df-ba7c-4aa6-bc07-d52029fc0147",
   "metadata": {},
   "outputs": [
    {
     "name": "stdout",
     "output_type": "stream",
     "text": [
      "94\n"
     ]
    }
   ],
   "source": [
    "import random\n",
    "print(random.randint(1,100))"
   ]
  },
  {
   "cell_type": "code",
   "execution_count": 5,
   "id": "80bb18e3-51e8-4b20-972d-e56e6a817a97",
   "metadata": {},
   "outputs": [
    {
     "name": "stdout",
     "output_type": "stream",
     "text": [
      "2025-02-07 10:51:38.274500\n"
     ]
    }
   ],
   "source": [
    "import datetime\n",
    "print(datetime.datetime.now())"
   ]
  },
  {
   "cell_type": "code",
   "execution_count": 9,
   "id": "768c5dd1-96a4-4b20-86c8-112620d418bd",
   "metadata": {},
   "outputs": [],
   "source": [
    "# help('modules')   #available module aajayenge"
   ]
  },
  {
   "cell_type": "code",
   "execution_count": 7,
   "id": "61152f73-3bf5-4104-9406-2ebb86028c0a",
   "metadata": {},
   "outputs": [],
   "source": [
    "import collections"
   ]
  },
  {
   "cell_type": "markdown",
   "id": "f6e6aa88-7907-40ea-8a7e-505e1a8fecbb",
   "metadata": {},
   "source": [
    "## Loops\n",
    "- to repeat same piece of code again and again"
   ]
  },
  {
   "cell_type": "code",
   "execution_count": 1,
   "id": "cfc394ab-3c71-4c6a-9f87-58af324121cf",
   "metadata": {},
   "outputs": [
    {
     "name": "stdin",
     "output_type": "stream",
     "text": [
      "Enter the number 4\n"
     ]
    },
    {
     "name": "stdout",
     "output_type": "stream",
     "text": [
      "4 * 1  = 4\n",
      "4 * 2  = 8\n",
      "4 * 3  = 12\n",
      "4 * 4  = 16\n",
      "4 * 5  = 20\n",
      "4 * 6  = 24\n",
      "4 * 7  = 28\n",
      "4 * 8  = 32\n",
      "4 * 9  = 36\n",
      "4 * 10  = 40\n"
     ]
    },
    {
     "name": "stdout",
     "output_type": "stream",
     "text": [
      "3 * 1  = 3\n",
      "3 * 2  = 6\n",
      "3 * 3  = 9\n",
      "3 * 4  = 12\n",
      "3 * 5  = 15\n",
      "3 * 6  = 18\n",
      "3 * 7  = 21\n",
      "3 * 8  = 24\n",
      "3 * 9  = 27\n",
      "3 * 10  = 30\n"
     ]
    }
   ],
   "source": [
    "## While Loops\n",
    "## Table print \n",
    "num = int(input(\"Enter the number\"))\n",
    "i=1    \n",
    "while i<11:\n",
    "    print(num, '*',i,' =',num*i)    ## Python Tutor\n",
    "    i+=1   #(if not mention, infinite loop pakad lega and num ko repetive karta rahega)"
   ]
  },
  {
   "cell_type": "code",
   "execution_count": null,
   "id": "18d3b110-a353-419c-b857-be96315b6b6c",
   "metadata": {},
   "outputs": [],
   "source": [
    "num = int(input(\"Enter the number\"))\n",
    "i=1    \n",
    "while i<11:\n",
    "    print(num, '*',i,' =',num*i)    ## Python Tutor\n",
    "    i+=1 "
   ]
  },
  {
   "cell_type": "code",
   "execution_count": 27,
   "id": "3f5d51b9-a8bc-4717-adb1-7dc82ca9e18f",
   "metadata": {},
   "outputs": [
    {
     "name": "stdout",
     "output_type": "stream",
     "text": [
      "1\n",
      "2\n",
      "limit crossed\n"
     ]
    }
   ],
   "source": [
    "## While --- else\n",
    "x = 1\n",
    "while x<3:\n",
    "    print(x)\n",
    "    x+=1\n",
    "else:\n",
    "    print(\"limit crossed\")"
   ]
  },
  {
   "cell_type": "code",
   "execution_count": 4,
   "id": "4b2df36e-6460-42e3-82b8-b80f5afbf19a",
   "metadata": {},
   "outputs": [
    {
     "name": "stdin",
     "output_type": "stream",
     "text": [
      "Enter password:  sdgdg\n",
      "Enter password:  1234\n",
      "Enter password:  python123\n"
     ]
    },
    {
     "name": "stdout",
     "output_type": "stream",
     "text": [
      "Access granted!\n"
     ]
    }
   ],
   "source": [
    "password = \"python123\"\n",
    "user_input = \"\"\n",
    "\n",
    "while user_input != password:\n",
    "    user_input = input(\"Enter password: \")\n",
    "print(\"Access granted!\")\n"
   ]
  },
  {
   "cell_type": "code",
   "execution_count": 7,
   "id": "c8a7b299-30e5-47b5-b8fe-b49d7b977a35",
   "metadata": {},
   "outputs": [
    {
     "name": "stdout",
     "output_type": "stream",
     "text": [
      "Temperature: 29°C - Cooling system activated.\n",
      "Temperature: 27°C - Cooling system activated.\n",
      "Temperature is stable.\n"
     ]
    }
   ],
   "source": [
    "import random\n",
    "\n",
    "temperature = random.randint(20, 40)\n",
    "while temperature > 25:\n",
    "    print(f\"Temperature: {temperature}°C - Cooling system activated.\")\n",
    "    temperature -= 2  # Simulate cooling\n",
    "print(\"Temperature is stable.\")\n"
   ]
  },
  {
   "cell_type": "code",
   "execution_count": 28,
   "id": "5871bbc7-d245-4d43-b0b3-acce50459324",
   "metadata": {},
   "outputs": [
    {
     "name": "stdin",
     "output_type": "stream",
     "text": [
      "Enter the jackpot number:  4\n"
     ]
    },
    {
     "name": "stdout",
     "output_type": "stream",
     "text": [
      "Wrong!! guess higher\n"
     ]
    },
    {
     "name": "stdin",
     "output_type": "stream",
     "text": [
      "Enter the jackpot number:  3\n"
     ]
    },
    {
     "name": "stdout",
     "output_type": "stream",
     "text": [
      "Wrong!! guess higher\n"
     ]
    },
    {
     "name": "stdin",
     "output_type": "stream",
     "text": [
      "Enter the jackpot number:  3\n"
     ]
    },
    {
     "name": "stdout",
     "output_type": "stream",
     "text": [
      "Wrong!! guess higher\n"
     ]
    },
    {
     "name": "stdin",
     "output_type": "stream",
     "text": [
      "Enter the jackpot number:  2\n"
     ]
    },
    {
     "name": "stdout",
     "output_type": "stream",
     "text": [
      "Wrong!! guess higher\n"
     ]
    },
    {
     "name": "stdin",
     "output_type": "stream",
     "text": [
      "Enter the jackpot number:  89\n"
     ]
    },
    {
     "name": "stdout",
     "output_type": "stream",
     "text": [
      "Wrong!! Guess low\n"
     ]
    },
    {
     "name": "stdin",
     "output_type": "stream",
     "text": [
      "Enter the jackpot number:  87\n"
     ]
    },
    {
     "name": "stdout",
     "output_type": "stream",
     "text": [
      "Wrong!! Guess low\n"
     ]
    },
    {
     "name": "stdin",
     "output_type": "stream",
     "text": [
      "Enter the jackpot number:  65\n"
     ]
    },
    {
     "name": "stdout",
     "output_type": "stream",
     "text": [
      "Wrong!! Guess low\n"
     ]
    },
    {
     "name": "stdin",
     "output_type": "stream",
     "text": [
      "Enter the jackpot number:  55\n"
     ]
    },
    {
     "name": "stdout",
     "output_type": "stream",
     "text": [
      "Wrong!! Guess low\n"
     ]
    },
    {
     "name": "stdin",
     "output_type": "stream",
     "text": [
      "Enter the jackpot number:  45\n"
     ]
    },
    {
     "name": "stdout",
     "output_type": "stream",
     "text": [
      "Wrong!! Guess low\n"
     ]
    },
    {
     "name": "stdin",
     "output_type": "stream",
     "text": [
      "Enter the jackpot number:  34\n"
     ]
    },
    {
     "name": "stdout",
     "output_type": "stream",
     "text": [
      "Wrong!! Guess low\n"
     ]
    },
    {
     "name": "stdin",
     "output_type": "stream",
     "text": [
      "Enter the jackpot number:  32\n"
     ]
    },
    {
     "name": "stdout",
     "output_type": "stream",
     "text": [
      "Wrong!! Guess low\n"
     ]
    },
    {
     "name": "stdin",
     "output_type": "stream",
     "text": [
      "Enter the jackpot number:  31\n"
     ]
    },
    {
     "name": "stdout",
     "output_type": "stream",
     "text": [
      "Wrong!! Guess low\n"
     ]
    },
    {
     "name": "stdin",
     "output_type": "stream",
     "text": [
      "Enter the jackpot number:  27\n"
     ]
    },
    {
     "name": "stdout",
     "output_type": "stream",
     "text": [
      "Wrong!! Guess low\n"
     ]
    },
    {
     "name": "stdin",
     "output_type": "stream",
     "text": [
      "Enter the jackpot number:  25\n"
     ]
    },
    {
     "name": "stdout",
     "output_type": "stream",
     "text": [
      "Wrong!! Guess low\n"
     ]
    },
    {
     "name": "stdin",
     "output_type": "stream",
     "text": [
      "Enter the jackpot number:  21\n"
     ]
    },
    {
     "name": "stdout",
     "output_type": "stream",
     "text": [
      "Wrong!! Guess low\n"
     ]
    },
    {
     "name": "stdin",
     "output_type": "stream",
     "text": [
      "Enter the jackpot number:  20\n"
     ]
    },
    {
     "name": "stdout",
     "output_type": "stream",
     "text": [
      "Wrong!! Guess low\n"
     ]
    },
    {
     "name": "stdin",
     "output_type": "stream",
     "text": [
      "Enter the jackpot number:  18\n"
     ]
    },
    {
     "name": "stdout",
     "output_type": "stream",
     "text": [
      "Wrong!! Guess low\n"
     ]
    },
    {
     "name": "stdin",
     "output_type": "stream",
     "text": [
      "Enter the jackpot number:  15\n"
     ]
    },
    {
     "name": "stdout",
     "output_type": "stream",
     "text": [
      "Wrong!! Guess low\n"
     ]
    },
    {
     "name": "stdin",
     "output_type": "stream",
     "text": [
      "Enter the jackpot number:  12\n"
     ]
    },
    {
     "name": "stdout",
     "output_type": "stream",
     "text": [
      "Wrong!! guess higher\n"
     ]
    },
    {
     "name": "stdin",
     "output_type": "stream",
     "text": [
      "Enter the jackpot number:  13\n"
     ]
    },
    {
     "name": "stdout",
     "output_type": "stream",
     "text": [
      "Correct guess\n",
      "No of ettempts 20\n"
     ]
    },
    {
     "name": "stdout",
     "output_type": "stream",
     "text": [
      "Wrong!! Guess low\n"
     ]
    },
    {
     "name": "stdout",
     "output_type": "stream",
     "text": [
      "Enter the jackpot number:  2\n"
     ]
    },
    {
     "name": "stdout",
     "output_type": "stream",
     "text": [
      "Wrong!! guess higher\n"
     ]
    },
    {
     "name": "stdout",
     "output_type": "stream",
     "text": [
      "Enter the jackpot number:  4\n"
     ]
    },
    {
     "name": "stdout",
     "output_type": "stream",
     "text": [
      "Correct guess\n",
      "No of ettempts 3\n"
     ]
    }
   ],
   "source": [
    "## Guessing Game\n",
    "## decide the jacpot number\n",
    "import random\n",
    "jackpot = random.randint(1,100)\n",
    "# print(jackpot)\n",
    "## Input from user\n",
    "num = int(input(\"Enter the jackpot number: \"))\n",
    "countt=1\n",
    "\n",
    "while num!=jackpot:\n",
    "## Condition\n",
    "    if jackpot > num:\n",
    "        print(\"Wrong!! guess higher\")\n",
    "    else:\n",
    "        print(\"Wrong!! Guess low\")\n",
    "    num = int(input(\"Enter the jackpot number: \"))\n",
    "    countt+=1\n",
    "else:\n",
    "    print(\"Correct guess\")\n",
    "    print(\"No of ettempts\",countt) \n",
    "\n",
    "## Final o/p"
   ]
  },
  {
   "cell_type": "markdown",
   "id": "3c8a2909-0f5b-4464-ae19-1b5ed9be5c4f",
   "metadata": {},
   "source": [
    "# For Loop\n",
    "- flexible\n",
    "- easy"
   ]
  },
  {
   "cell_type": "code",
   "execution_count": 29,
   "id": "08b07ab1-4e2f-4236-90f3-0c7fafbf5167",
   "metadata": {},
   "outputs": [
    {
     "name": "stdout",
     "output_type": "stream",
     "text": [
      "1\n",
      "2\n",
      "3\n",
      "4\n",
      "5\n",
      "6\n",
      "7\n",
      "8\n",
      "9\n",
      "10\n"
     ]
    }
   ],
   "source": [
    "for i in range(1,11):   # 1 in inlcluded and 11 is excluded\n",
    "    print(i)"
   ]
  },
  {
   "cell_type": "code",
   "execution_count": 30,
   "id": "e203a877-2af9-4c1d-8db8-2f246ab76bfb",
   "metadata": {},
   "outputs": [
    {
     "name": "stdout",
     "output_type": "stream",
     "text": [
      "0\n",
      "1\n",
      "2\n",
      "3\n",
      "4\n",
      "5\n",
      "6\n",
      "7\n",
      "8\n",
      "9\n"
     ]
    }
   ],
   "source": [
    "for i in range(10):\n",
    "    print(i)"
   ]
  },
  {
   "cell_type": "code",
   "execution_count": 10,
   "id": "13325a0a-130e-4de5-ab16-cdfaf54d878c",
   "metadata": {},
   "outputs": [
    {
     "name": "stdout",
     "output_type": "stream",
     "text": [
      "1\n",
      "2\n",
      "3\n",
      "4\n",
      "5\n",
      "6\n",
      "7\n",
      "8\n",
      "9\n",
      "10\n"
     ]
    }
   ],
   "source": [
    "for i in 1,2,3,4,5,6,7,8,9,10:\n",
    "      print(i)"
   ]
  },
  {
   "cell_type": "code",
   "execution_count": 32,
   "id": "ddfd74fb-e3da-4d4c-917f-f24ce7d7bec8",
   "metadata": {},
   "outputs": [
    {
     "name": "stdout",
     "output_type": "stream",
     "text": [
      "1\n",
      "3\n",
      "5\n",
      "7\n",
      "9\n"
     ]
    }
   ],
   "source": [
    "for i in range(1,10,2):   ## 2 is stepsize\n",
    "    print(i)"
   ]
  },
  {
   "cell_type": "code",
   "execution_count": 12,
   "id": "da4cd5af-41c0-4ea0-86b0-aa33796e70ae",
   "metadata": {},
   "outputs": [
    {
     "name": "stdout",
     "output_type": "stream",
     "text": [
      "10\n",
      "9\n",
      "8\n",
      "7\n",
      "6\n",
      "5\n",
      "4\n",
      "3\n",
      "2\n"
     ]
    }
   ],
   "source": [
    "## Ulta loop\n",
    "for i in range(10,1,-1):   ## stepsize: utla in previous case 1 tha \n",
    "    print(i)"
   ]
  },
  {
   "cell_type": "code",
   "execution_count": 34,
   "id": "c39e3051-af14-4468-a81b-1226abb7190e",
   "metadata": {},
   "outputs": [
    {
     "name": "stdout",
     "output_type": "stream",
     "text": [
      "D\n",
      "e\n",
      "l\n",
      "h\n",
      "i\n"
     ]
    }
   ],
   "source": [
    "## Loop on str\n",
    "for i in 'Delhi':\n",
    "    print(i)"
   ]
  },
  {
   "cell_type": "code",
   "execution_count": 35,
   "id": "b7ba7dde-8a9f-4bc5-b9dd-8708a5a776d0",
   "metadata": {},
   "outputs": [
    {
     "name": "stdout",
     "output_type": "stream",
     "text": [
      "1\n",
      "2\n",
      "3\n",
      "4\n",
      "---------\n",
      "1\n",
      "2\n",
      "3\n",
      "4\n",
      "5\n"
     ]
    }
   ],
   "source": [
    "## list\n",
    "r1 =[1,2,3,4,5]\n",
    "for i in [1,2,3,4]:\n",
    "    print(i)\n",
    "print(\"---------\")\n",
    "for i in r1:\n",
    "    print(i)"
   ]
  },
  {
   "cell_type": "code",
   "execution_count": 1,
   "id": "07e021ee-7379-4458-923e-27a35068724a",
   "metadata": {},
   "outputs": [
    {
     "name": "stdout",
     "output_type": "stream",
     "text": [
      "1\n",
      "2\n",
      "3\n",
      "4\n",
      "5\n"
     ]
    }
   ],
   "source": [
    "## set\n",
    "for i in {1,2,3,4,4,5}:\n",
    "    print(i)"
   ]
  },
  {
   "cell_type": "code",
   "execution_count": 2,
   "id": "2bc14c82-0734-4900-bd53-89cc237ac5a3",
   "metadata": {},
   "outputs": [
    {
     "name": "stdout",
     "output_type": "stream",
     "text": [
      "10 10000\n",
      "9 9090.90909090909\n",
      "8 8264.462809917353\n",
      "7 7513.148009015775\n",
      "6 6830.134553650703\n",
      "5 6209.213230591548\n",
      "4 5644.739300537771\n",
      "3 5131.5811823070635\n",
      "2 4665.07380209733\n",
      "1 4240.976183724845\n"
     ]
    }
   ],
   "source": [
    "## current population is 10000 and rate per year is 10% and what will last 10 yrs population\n",
    "current_pop = 10000\n",
    "for i in range(10,0,-1):\n",
    "    print(i,current_pop)\n",
    "    current_pop = current_pop/1.1"
   ]
  },
  {
   "cell_type": "code",
   "execution_count": null,
   "id": "5e1ffe6d-30f9-4043-8630-44c96804a928",
   "metadata": {},
   "outputs": [],
   "source": []
  }
 ],
 "metadata": {
  "kernelspec": {
   "display_name": "Python 3 (ipykernel)",
   "language": "python",
   "name": "python3"
  },
  "language_info": {
   "codemirror_mode": {
    "name": "ipython",
    "version": 3
   },
   "file_extension": ".py",
   "mimetype": "text/x-python",
   "name": "python",
   "nbconvert_exporter": "python",
   "pygments_lexer": "ipython3",
   "version": "3.13.1"
  }
 },
 "nbformat": 4,
 "nbformat_minor": 5
}
