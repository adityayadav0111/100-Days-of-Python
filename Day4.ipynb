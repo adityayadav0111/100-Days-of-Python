{
 "cells": [
  {
   "cell_type": "markdown",
   "id": "57c69e01-d142-4c92-865b-0cf7ba695430",
   "metadata": {},
   "source": [
    "## List \n",
    "- Its a dynamic array that can add element on the fly"
   ]
  },
  {
   "cell_type": "markdown",
   "id": "e3758bae-9236-4648-b05c-0a4860e3e390",
   "metadata": {},
   "source": [
    "## List Vs Array\n",
    "- Fixed Vs Dynamic Size\n",
    "- Covenience\n",
    "- speed of execution\n",
    "- memory"
   ]
  },
  {
   "cell_type": "code",
   "execution_count": 1,
   "id": "b80cb1dc-0b87-4daf-8af8-81d6f1a00b9a",
   "metadata": {},
   "outputs": [
    {
     "name": "stdout",
     "output_type": "stream",
     "text": [
      "Total List Memory: 244 bytes\n",
      "Total NumPy Array Memory: 152 bytes\n"
     ]
    }
   ],
   "source": [
    "import sys\n",
    "import numpy as np\n",
    "\n",
    "lst = [1, 2, 3, 4, 5]\n",
    "arr = np.array([1, 2, 3, 4, 5])\n",
    "\n",
    "list_size = sys.getsizeof(lst) + sum(sys.getsizeof(x) for x in lst)\n",
    "array_size = sys.getsizeof(arr)\n",
    "\n",
    "print(f\"Total List Memory: {list_size} bytes\")\n",
    "print(f\"Total NumPy Array Memory: {array_size} bytes\")\n"
   ]
  },
  {
   "cell_type": "markdown",
   "id": "f93921bf-0308-4a6c-a10c-40cee61c8b07",
   "metadata": {},
   "source": [
    "# Id()  - show memory location/address of element"
   ]
  },
  {
   "cell_type": "code",
   "execution_count": 4,
   "id": "2bbfa714-5bf8-4c79-92be-8964e61c753f",
   "metadata": {},
   "outputs": [
    {
     "name": "stdout",
     "output_type": "stream",
     "text": [
      "140715910300616\n"
     ]
    }
   ],
   "source": [
    "a = 2\n",
    "print(id(2))"
   ]
  },
  {
   "cell_type": "raw",
   "id": "aec3f31a-513a-4aee-aa78-a75874012ca8",
   "metadata": {},
   "source": [
    "l = [1,2,3]\n",
    "\n",
    "print(id(l))\n",
    "print(id(l[0]))   \n",
    "print(id(l[1]))\n",
    "print(id(l[2]))\n",
    "print(id(1))\n",
    "print(id(2))\n",
    "print(id(3))"
   ]
  },
  {
   "cell_type": "markdown",
   "id": "1b992eea-cb6b-4f6b-898f-a265a5cbda97",
   "metadata": {},
   "source": [
    "Characteristics of list:\n",
    "- ordered\n",
    "- items can be changed and mutated\n",
    "- heterogenous\n",
    "- can have duplicates\n",
    "- are dynamic\n",
    "- can be nested\n",
    "- items can be accessed\n",
    "- can contain any kind of object in python"
   ]
  },
  {
   "cell_type": "markdown",
   "id": "0bec468f-c0dd-4048-b6b7-316402ba276d",
   "metadata": {},
   "source": [
    "## 1. Creating a List"
   ]
  },
  {
   "cell_type": "code",
   "execution_count": 20,
   "id": "123e0e7b-5070-47da-8349-b4f7345610ef",
   "metadata": {},
   "outputs": [
    {
     "name": "stdout",
     "output_type": "stream",
     "text": [
      "[]\n",
      "[1, 2, 3, 4, 5]\n",
      "[1, 2, 3, [1, 2]]\n",
      "[[[1, 2], [3, 4]], [[5, 6], [7, 8]]]\n",
      "[1, 'hello', 3.4, (3+5j)]\n",
      "['h', 'e', 'l', 'l', 'o']\n"
     ]
    }
   ],
   "source": [
    "## Empty \n",
    "print([])\n",
    "## 1D - Homogenous\n",
    "print([1,2,3,4,5])\n",
    "## 2D - Heterogenous\n",
    "print([1,2,3,[1,2]])\n",
    "## 3D - Homogenous\n",
    "print([[[1,2],[3,4]],[[5,6],[7,8]]])\n",
    "## Heterogenous\n",
    "print([1,'hello',3.4,3+5j])\n",
    "## Using Type Conversion\n",
    "print(list('hello'))"
   ]
  },
  {
   "cell_type": "markdown",
   "id": "a0526c4a-2552-41b5-a566-9f3977eea071",
   "metadata": {},
   "source": [
    "## 2. Accessing item from list"
   ]
  },
  {
   "cell_type": "markdown",
   "id": "b28eb8d1-a557-4588-9d70-61f9c84cc8e9",
   "metadata": {},
   "source": [
    "## 1. Indexing   \n",
    "- We can only access only one element here "
   ]
  },
  {
   "cell_type": "code",
   "execution_count": 33,
   "id": "8b88c665-42cb-410a-98f4-311005a53d16",
   "metadata": {},
   "outputs": [
    {
     "name": "stdout",
     "output_type": "stream",
     "text": [
      "1\n",
      "3\n",
      "4\n",
      "4\n",
      "5\n",
      "3\n"
     ]
    }
   ],
   "source": [
    "## Indexing \n",
    "l = [1,2,3,4,5]\n",
    "\n",
    "## Positive Indexing\n",
    "print(l[0])\n",
    "## Negative Indexing\n",
    "print(l[-3])\n",
    "\n",
    "## Nested Indexing\n",
    "l1 = [1,2,3,[4,5]]\n",
    "\n",
    "## Positive Indexing\n",
    "print(l1[3][0])  #--- acessing 4\n",
    "\n",
    "## Negative Indexing\n",
    "print(l1[-1][-2])  #--- acessing 4\n",
    "\n",
    "lst = [[[1,2],[3,4]],[[5,6],[7,8]]]  #-- want to acess 5\n",
    "\n",
    "print(lst[1][0][0])   #---5\n",
    "## 3\n",
    "print(lst[0][1][0])\n",
    "\n",
    "\n",
    "# Tip : Jitne dimension (brackets) utne hi square bracs"
   ]
  },
  {
   "cell_type": "markdown",
   "id": "2bc752eb-f097-4226-8d6e-194db0f9e122",
   "metadata": {},
   "source": [
    "## 2. Slicing\n",
    "- we can acess multiple element at a time"
   ]
  },
  {
   "cell_type": "code",
   "execution_count": 46,
   "id": "e3666221-11fd-4a1b-b843-0e7deaef5e50",
   "metadata": {},
   "outputs": [
    {
     "name": "stdout",
     "output_type": "stream",
     "text": [
      "[1, 2, 3]\n",
      "[6, 5, 4, 3, 2, 1]\n",
      "[1, 3, 5]\n",
      "[6, 4]\n",
      "[2, 3, 4, 5]\n"
     ]
    }
   ],
   "source": [
    "l = [1,2,3,4,5,6]\n",
    "\n",
    "print(l[0:3])\n",
    "\n",
    "## Reverse\n",
    "print(l[::-1]) \n",
    "\n",
    "## Stepsize\n",
    "print(l[0::2])\n",
    "\n",
    "## Negative slicing\n",
    "print(l[-1:-5:-2])\n",
    "\n",
    "print(l[-5:-1])"
   ]
  },
  {
   "cell_type": "markdown",
   "id": "8a51054c-e553-48ae-8e0d-4ae8c3c882c0",
   "metadata": {},
   "source": [
    "## 3. Adding a element "
   ]
  },
  {
   "cell_type": "markdown",
   "id": "243cbcbb-68f9-4bf5-bbf5-5afdda3f9ae0",
   "metadata": {},
   "source": [
    "Append  \n",
    "- Adds a Single Element to the List\n",
    "- Treats the argument as a single unit and adds it to the list.\n",
    "- If you pass a list, it will be added as a single element (nested list)."
   ]
  },
  {
   "cell_type": "code",
   "execution_count": 1,
   "id": "b252346a-2b88-4c3f-843b-1d82ec00a5df",
   "metadata": {},
   "outputs": [
    {
     "name": "stdout",
     "output_type": "stream",
     "text": [
      "[1, 2, 3, 4, 5]\n",
      "[1, 2, 3, 4, 5, [7, 8, 9]]\n"
     ]
    }
   ],
   "source": [
    "l = [1,2,3,4]\n",
    "\n",
    "## Single Element\n",
    "l.append(5)\n",
    "print(l)\n",
    "\n",
    "## List of element\n",
    "l.append([7,8,9])\n",
    "\n",
    "## string\n",
    "# l.append(\"Hello\",\"Bye\")   -- error can only take one argument\n",
    "print(l)"
   ]
  },
  {
   "cell_type": "markdown",
   "id": "8e0c2535-0945-4266-823a-bb67eaac619b",
   "metadata": {},
   "source": [
    "Extend\n",
    "- Merges ELEMENTS into the List\n",
    "- Takes an iterable (list, tuple, set, etc.) and adds each of its elements individually to the original list.\n",
    "- Does not create a nested list."
   ]
  },
  {
   "cell_type": "code",
   "execution_count": 62,
   "id": "127f93b3-6990-49ba-b35c-a769658b46a0",
   "metadata": {},
   "outputs": [
    {
     "name": "stdout",
     "output_type": "stream",
     "text": [
      "[1, 2, 3, 4, 5, 6, 7, 'H', 'e', 'l', 'l', 'o', 'Hello', 'bye']\n"
     ]
    }
   ],
   "source": [
    "l = [1,2,3,4]\n",
    "\n",
    "## Adding single element\n",
    "# l.extend(4)   error -'int' object is not iterable\n",
    "\n",
    "## List of element\n",
    "l.extend([5,6,7])\n",
    "\n",
    "## single String\n",
    "l.extend(\"Hello\") \n",
    "\n",
    "##  Strings\n",
    "# l.extend(\"Hello\",\"bye\")   TypeError: list.extend() takes exactly one argument (2 given)\n",
    "\n",
    "## List of Strings\n",
    "l.extend(['Hello','bye'])\n",
    "print(l)"
   ]
  },
  {
   "cell_type": "code",
   "execution_count": 64,
   "id": "2f447218-a863-4294-b37d-16b530828ae9",
   "metadata": {},
   "outputs": [
    {
     "name": "stdout",
     "output_type": "stream",
     "text": [
      "[1, 100, 2, 3, 4]\n"
     ]
    }
   ],
   "source": [
    "## Insert   --yaha bhi single elemnt add karna hai\n",
    "## Argument: Index, item (kaunse index mein add karna hai aur ky add karna hai)\n",
    "l=[1,2,3,4]\n",
    "\n",
    "## I want to add 100 between 1 and 2\n",
    "l.insert(1,100)\n",
    "print(l)"
   ]
  },
  {
   "cell_type": "markdown",
   "id": "4483de63-c0c1-4698-8fc7-bc332b092bef",
   "metadata": {},
   "source": [
    "## 4. Editing item in a list"
   ]
  },
  {
   "cell_type": "code",
   "execution_count": 66,
   "id": "28ac5429-05ae-47a7-a11f-34d38592b4dd",
   "metadata": {},
   "outputs": [
    {
     "name": "stdout",
     "output_type": "stream",
     "text": [
      "[1, 200, 300, 400, 500]\n"
     ]
    }
   ],
   "source": [
    "l = [1,2,3,4,5]\n",
    "\n",
    "## Editing with indexing   (change 5 with 500)\n",
    "l[-1] = 500\n",
    "\n",
    "## Editing with slicing\n",
    "l[1:4] = [200,300,400]\n",
    "print(l)"
   ]
  },
  {
   "cell_type": "markdown",
   "id": "2dcf0117-2c3d-42a5-a465-8bf3285bbf76",
   "metadata": {},
   "source": [
    "## 5. Deleting item in a list"
   ]
  },
  {
   "cell_type": "code",
   "execution_count": 68,
   "id": "4e317447-3083-4cce-bdde-f06298ff0ef3",
   "metadata": {},
   "outputs": [
    {
     "name": "stdout",
     "output_type": "stream",
     "text": [
      "[1, 2, 3]\n"
     ]
    },
    {
     "ename": "NameError",
     "evalue": "name 'a' is not defined",
     "output_type": "error",
     "traceback": [
      "\u001b[1;31m---------------------------------------------------------------------------\u001b[0m",
      "\u001b[1;31mNameError\u001b[0m                                 Traceback (most recent call last)",
      "Cell \u001b[1;32mIn[68], line 5\u001b[0m\n\u001b[0;32m      3\u001b[0m \u001b[38;5;28mprint\u001b[39m(a)\n\u001b[0;32m      4\u001b[0m \u001b[38;5;28;01mdel\u001b[39;00m a\n\u001b[1;32m----> 5\u001b[0m \u001b[38;5;28mprint\u001b[39m(\u001b[43ma\u001b[49m)\n",
      "\u001b[1;31mNameError\u001b[0m: name 'a' is not defined"
     ]
    }
   ],
   "source": [
    "## DEL\n",
    "a = [1,2,3]\n",
    "print(a)\n",
    "del a\n",
    "print(a)"
   ]
  },
  {
   "cell_type": "code",
   "execution_count": 70,
   "id": "08893ad7-29d0-4a8e-b1bd-7686d9270f35",
   "metadata": {},
   "outputs": [
    {
     "name": "stdout",
     "output_type": "stream",
     "text": [
      "[1, 2, 3, 4, 5, 6]\n",
      "[1, 2, 3, 4, 5]\n",
      "[4, 5]\n"
     ]
    }
   ],
   "source": [
    "## DEl()\n",
    "b = [1,2,3,4,5,6]\n",
    "print(b)\n",
    "\n",
    "## Index deletion\n",
    "del b[-1]\n",
    "print(b)\n",
    "\n",
    "## Slicing deletion\n",
    "del b[0:3]\n",
    "print(b)"
   ]
  },
  {
   "cell_type": "markdown",
   "id": "ddc5523a-7602-4cc2-bfab-50db4e967d22",
   "metadata": {},
   "source": [
    "Remove -  Removes the First Occurrence of a Value\n",
    "- Syntax- remove(value)\n",
    "- Removes the first occurrence of the specified value (not index).\n",
    "- Raises a ValueError if the value is not found."
   ]
  },
  {
   "cell_type": "code",
   "execution_count": 2,
   "id": "27259b23-7043-40d9-b850-4524648ecc85",
   "metadata": {},
   "outputs": [
    {
     "name": "stdout",
     "output_type": "stream",
     "text": [
      "[2, 3, 4, 5, 6]\n"
     ]
    }
   ],
   "source": [
    "## REMOVE() --  value ke basis pe delete karega \n",
    "b = [1,2,3,4,5,6]\n",
    "b.remove(1)\n",
    "print(b)"
   ]
  },
  {
   "cell_type": "markdown",
   "id": "47f9d35f-cd62-48a2-906e-c846e9cd6cca",
   "metadata": {},
   "source": [
    "POP  -Removes and Returns an Element by Index\n",
    "- Removes an element based on its index.\n",
    "- Returns the removed element.\n",
    "- If no index is given, it removes the last element by default.\n",
    "- Raises an IndexError if the list is empty or the index is out of range.\n",
    "- syntax : pop(index)"
   ]
  },
  {
   "cell_type": "code",
   "execution_count": 4,
   "id": "6806e951-4cdc-48f5-a86b-ab690d151232",
   "metadata": {},
   "outputs": [
    {
     "name": "stdout",
     "output_type": "stream",
     "text": [
      "[2, 3, 4, 5, 6]\n",
      "[1, 2, 3, 4, 5]\n"
     ]
    }
   ],
   "source": [
    "## Index Deletion\n",
    "b = [1,2,3,4,5,6]\n",
    "b.pop(0)\n",
    "print(b)\n",
    "\n",
    "\n",
    "## if no argument then deletes the last element\n",
    "c = [1,2,3,4,5,6]\n",
    "c.pop()   ## default syntax will be pop(-1) since last element ko delete kar raha hai\n",
    "print(c)"
   ]
  },
  {
   "cell_type": "code",
   "execution_count": 79,
   "id": "7d784835-9efb-4cfd-bf5c-d25d7dc7abb1",
   "metadata": {},
   "outputs": [
    {
     "name": "stdout",
     "output_type": "stream",
     "text": [
      "[]\n"
     ]
    }
   ],
   "source": [
    "## Clear: Elements ko hataega and returns a empty list\n",
    "d = [1,2,3,4,5]\n",
    "\n",
    "d.clear()\n",
    "\n",
    "print(d)"
   ]
  },
  {
   "cell_type": "markdown",
   "id": "a3950eca-95b7-46d8-bb07-19462932ebdf",
   "metadata": {},
   "source": [
    "## 6. Operations on List"
   ]
  },
  {
   "cell_type": "code",
   "execution_count": 83,
   "id": "cba4f8ef-5004-4e01-9c92-727d7dbeac6d",
   "metadata": {},
   "outputs": [
    {
     "name": "stdout",
     "output_type": "stream",
     "text": [
      "[1, 2, 3, 4, 5, 6, 7, 8]\n",
      "[1, 2, 3, 4, 1, 2, 3, 4, 1, 2, 3, 4]\n"
     ]
    }
   ],
   "source": [
    "## Arithmetic (*, +)\n",
    "\n",
    "L1 = [1,2,3,4]\n",
    "L2 = [5,6,7,8]\n",
    "\n",
    "## Concatenate/ Merge\n",
    "print(L1+L2)\n",
    "\n",
    "## *\n",
    "print(L1 * 3)"
   ]
  },
  {
   "cell_type": "code",
   "execution_count": 88,
   "id": "d93c8131-17e3-4729-b4c8-9ca65ca37ef9",
   "metadata": {},
   "outputs": [
    {
     "name": "stdout",
     "output_type": "stream",
     "text": [
      "False\n",
      "True\n",
      "False\n",
      "True\n"
     ]
    }
   ],
   "source": [
    "## Membership Operator\n",
    "L1 = [1,2,3,4]\n",
    "L2 = [1,2,3,4,[5,6]]\n",
    "\n",
    "print(5 in L1)\n",
    "print(5 not in L1)\n",
    "print(5 in L2)   ## since it is in nested list\n",
    "print([5,6] in L2)"
   ]
  },
  {
   "cell_type": "code",
   "execution_count": 92,
   "id": "11bdd17f-3ac3-4c3c-aa85-afbe8e61e631",
   "metadata": {},
   "outputs": [
    {
     "name": "stdout",
     "output_type": "stream",
     "text": [
      "1\n",
      "2\n",
      "3\n",
      "4\n",
      "**************************************************\n",
      "1\n",
      "2\n",
      "3\n",
      "4\n",
      "[5, 6]\n",
      "**************************************************\n",
      "[[1, 2], [3, 4]]\n",
      "[[5, 6], [7, 8]]\n"
     ]
    }
   ],
   "source": [
    "## LOOP\n",
    "L1 = [1,2,3,4]\n",
    "L2 = [1,2,3,4,[5,6]]\n",
    "L3 = [[[1,2],[3,4]],[[5,6],[7,8]]]\n",
    "\n",
    "for i in L1:\n",
    "    print(i)\n",
    "    \n",
    "print(\"*\"*50)\n",
    "\n",
    "for i in L2:\n",
    "    print(i)\n",
    "    \n",
    "print(\"*\"*50)\n",
    "\n",
    "for i in L3:\n",
    "    print(i)"
   ]
  },
  {
   "cell_type": "markdown",
   "id": "4ab2a655-89d8-47f5-ad87-7a0b54609099",
   "metadata": {},
   "source": [
    "## 7. List functions"
   ]
  },
  {
   "cell_type": "code",
   "execution_count": 98,
   "id": "6092015e-cb84-4c51-bf60-2704990b2d9a",
   "metadata": {},
   "outputs": [
    {
     "name": "stdout",
     "output_type": "stream",
     "text": [
      "7\n",
      "1\n",
      "7\n",
      "[1, 2, 3, 4, 5, 6, 7]\n",
      "[7, 6, 5, 4, 3, 2, 1]\n"
     ]
    }
   ],
   "source": [
    "lst = [1,2,3,4,5,6,7]\n",
    "\n",
    "## len ( it starts counting from 1)\n",
    "print(len(lst))\n",
    "## min    (incase if there is heterogenous datatype it might raise error\n",
    "print(min(lst))\n",
    "## max\n",
    "print(max(lst))\n",
    "## Sorted (temporary changes)\n",
    "print(sorted(lst))\n",
    "## Sorted in desc\n",
    "print(sorted(lst,reverse=True))"
   ]
  },
  {
   "cell_type": "code",
   "execution_count": 101,
   "id": "27deaa1a-7690-4ff7-94dc-fce6c7388bc8",
   "metadata": {},
   "outputs": [
    {
     "name": "stdout",
     "output_type": "stream",
     "text": [
      "3\n"
     ]
    }
   ],
   "source": [
    "## Count - tells the no of occurence of element\n",
    "lst = [1,2,1,3,4,1]\n",
    "print(lst.count(1))"
   ]
  },
  {
   "cell_type": "code",
   "execution_count": 103,
   "id": "a2997257-e1fb-47cb-9b28-e9fb3d92f4d5",
   "metadata": {},
   "outputs": [
    {
     "name": "stdout",
     "output_type": "stream",
     "text": [
      "4\n"
     ]
    }
   ],
   "source": [
    "## index - will tell the index of element\n",
    "lst = [1,2,1,3,4,1]\n",
    "print(lst.index(4))"
   ]
  },
  {
   "cell_type": "code",
   "execution_count": 106,
   "id": "51f2482d-f678-4523-b7b8-a113cd5a2f1f",
   "metadata": {},
   "outputs": [
    {
     "name": "stdout",
     "output_type": "stream",
     "text": [
      "[1, 4, 3, 1, 2, 1]\n"
     ]
    }
   ],
   "source": [
    "## Reverse - Permanent reverses \n",
    "lst = [1,2,1,3,4,1]\n",
    "lst.reverse()\n",
    "print(lst)"
   ]
  },
  {
   "cell_type": "code",
   "execution_count": 110,
   "id": "f6b28880-e55a-443c-980d-fa039234e213",
   "metadata": {},
   "outputs": [
    {
     "name": "stdout",
     "output_type": "stream",
     "text": [
      "[1, 2, 1, 3, 4, 1]\n",
      "[1, 1, 1, 2, 3, 4]\n",
      "[1, 2, 1, 3, 4, 1]\n",
      "[1, 1, 1, 2, 3, 4]\n"
     ]
    }
   ],
   "source": [
    "## Sort (vs sorted)\n",
    "## It make changes in original list\n",
    "lst = [1,2,1,3,4,1]\n",
    "print(lst)\n",
    "print(sorted(lst))\n",
    "print(lst)\n",
    "lst.sort()\n",
    "print(lst)"
   ]
  },
  {
   "cell_type": "code",
   "execution_count": 112,
   "id": "8c0f22b4-edbb-418b-b5f8-426ab48734bf",
   "metadata": {},
   "outputs": [
    {
     "name": "stdout",
     "output_type": "stream",
     "text": [
      "[1, 2, 1, 3, 4, 1]\n",
      "2390218532416\n",
      "[1, 2, 1, 3, 4, 1]\n",
      "2390218535168\n"
     ]
    }
   ],
   "source": [
    "## Copy - shallow copy\n",
    "lst = [1,2,1,3,4,1]\n",
    "print(lst)\n",
    "print(id(lst))\n",
    "lst2 = lst.copy()\n",
    "print(lst2)\n",
    "print(id(lst2))"
   ]
  },
  {
   "cell_type": "markdown",
   "id": "d297c257-cea7-4ca8-a348-9595d60574fd",
   "metadata": {},
   "source": [
    "## 8. List Comprehension\n",
    "- LC provides a concise way of creating  lists\n",
    "- newlist = [expression for item in iterable if condition == TRUE]\n",
    "- expression means jo task karwana chahata hai"
   ]
  },
  {
   "cell_type": "markdown",
   "id": "2e8f6453-a100-4ed5-a3a8-eec14c72be92",
   "metadata": {},
   "source": [
    "## Advantage\n",
    "- More Time-efficient and space efficeint that loops\n",
    "- Requires fewer lines of code\n",
    "- transforms itertive statement into formula"
   ]
  },
  {
   "cell_type": "code",
   "execution_count": 114,
   "id": "13bb0866-1754-4204-8784-ef8d7286fdcb",
   "metadata": {},
   "outputs": [
    {
     "name": "stdout",
     "output_type": "stream",
     "text": [
      "[1, 2, 3, 4, 5, 6, 7, 8, 9, 10]\n"
     ]
    }
   ],
   "source": [
    "## add 1 to 10 numbers in list\n",
    "## Aam zindagi\n",
    "lst = []\n",
    "\n",
    "for i in range(1,11):\n",
    "    lst.append(i)\n",
    "print(lst)"
   ]
  },
  {
   "cell_type": "code",
   "execution_count": 117,
   "id": "e3c3a4a6-24b7-41ac-9803-d13fe3c102cd",
   "metadata": {},
   "outputs": [
    {
     "name": "stdout",
     "output_type": "stream",
     "text": [
      "[1, 2, 3, 4, 5, 6, 7, 8, 9, 10]\n"
     ]
    }
   ],
   "source": [
    "## Mentoz Zindagi\n",
    "lst = [i for i in range(1,11)]\n",
    "print(lst)"
   ]
  },
  {
   "cell_type": "code",
   "execution_count": 120,
   "id": "9645d0e4-1c53-4544-b1a5-a62d18f7543c",
   "metadata": {},
   "outputs": [
    {
     "name": "stdout",
     "output_type": "stream",
     "text": [
      "[6, 12, 18, 24]\n"
     ]
    }
   ],
   "source": [
    "## Scalar multiplication with vector\n",
    "## Aam Zindagi\n",
    "\n",
    "vec = [1,2,3,4]\n",
    "scalar = 6\n",
    "new_vec = []\n",
    "for i in vec:\n",
    "    new_vec.append(i*6)\n",
    "print(new_vec)     "
   ]
  },
  {
   "cell_type": "code",
   "execution_count": 124,
   "id": "e4a93d87-4872-4436-8b8c-03d69bf7fc36",
   "metadata": {},
   "outputs": [
    {
     "name": "stdout",
     "output_type": "stream",
     "text": [
      "[6, 12, 18, 24]\n"
     ]
    }
   ],
   "source": [
    "## Mentoz Zindagi\n",
    "vec = [1,2,3,4]\n",
    "s = 6\n",
    "lst = [i*s for i in vec]\n",
    "print(lst)"
   ]
  },
  {
   "cell_type": "code",
   "execution_count": 125,
   "id": "e9691c91-df27-4e7f-9bcf-18e0faaeb534",
   "metadata": {},
   "outputs": [
    {
     "name": "stdout",
     "output_type": "stream",
     "text": [
      "[1, 4, 9, 16, 25]\n"
     ]
    }
   ],
   "source": [
    "## Add squares\n",
    "lst = [1,2,3,4,5]\n",
    "lst2 = [i*i for i in lst]\n",
    "print(lst2)"
   ]
  },
  {
   "cell_type": "code",
   "execution_count": 127,
   "id": "d926d273-7167-4788-8a06-8a0c5935102f",
   "metadata": {},
   "outputs": [
    {
     "name": "stdout",
     "output_type": "stream",
     "text": [
      "[5, 10, 15, 20, 25, 30, 35, 40, 45, 50]\n"
     ]
    }
   ],
   "source": [
    "## Print all the number divisble by 5 between 1 to 50\n",
    "lst = [i for i in range(1,51) if i%5 == 0]\n",
    "print(lst)"
   ]
  },
  {
   "cell_type": "code",
   "execution_count": 129,
   "id": "a123b8da-9222-404c-af9f-b57718bdb7cb",
   "metadata": {},
   "outputs": [
    {
     "name": "stdout",
     "output_type": "stream",
     "text": [
      "['python', 'php']\n",
      "['python', 'php']\n"
     ]
    }
   ],
   "source": [
    "## Find language thats starts with p\n",
    "lang = ['java','python','php','java','c']\n",
    "lst3 = [ i for i in lang if i[0]=='p']\n",
    "print(lst3)\n",
    "lst2 = [ i for i in lang if i.startswith('p')]\n",
    "print(lst2)"
   ]
  },
  {
   "cell_type": "code",
   "execution_count": 132,
   "id": "db554e0d-a64e-4501-8836-935fb3e305be",
   "metadata": {},
   "outputs": [
    {
     "data": {
      "text/plain": [
       "['apple']"
      ]
     },
     "execution_count": 132,
     "metadata": {},
     "output_type": "execute_result"
    }
   ],
   "source": [
    "## Nested if with list comprehension\n",
    "basket = ['apple','guava','cherry','banana']\n",
    "my_fruits = ['apple','kiwi','grapes','banana']\n",
    "\n",
    "## add new list from my_fruits and items if the fruits exists in basket and also starts with \"a'\n",
    "\n",
    "new_list = [ i for i in my_fruits if i in basket if i.startswith('a')]\n",
    "new_list"
   ]
  },
  {
   "cell_type": "code",
   "execution_count": 133,
   "id": "7ef46b30-9285-4db9-a458-44e406f74872",
   "metadata": {},
   "outputs": [
    {
     "data": {
      "text/plain": [
       "[[1, 2, 3], [2, 4, 6], [3, 6, 9]]"
      ]
     },
     "execution_count": 133,
     "metadata": {},
     "output_type": "execute_result"
    }
   ],
   "source": [
    "## Print a 3*3 matrix using list comprehension - nested list comprehension\n",
    "[[i*j for i in range(1,4)] for j in range(1,4)]   ## bahar waala loop chalega i.e j wala"
   ]
  },
  {
   "cell_type": "code",
   "execution_count": 136,
   "id": "46899e2d-72fb-4770-a0ef-1f7911ebc462",
   "metadata": {},
   "outputs": [
    {
     "name": "stdout",
     "output_type": "stream",
     "text": [
      "[5, 6, 7, 8, 10, 12, 14, 16, 15, 18, 21, 24, 20, 24, 28, 32]\n"
     ]
    }
   ],
   "source": [
    "## Cartisan product  -- list comprehensionon 2 list together\n",
    "a = [1,2,3,4]\n",
    "b = [5,6,7,8]\n",
    "\n",
    "final = [i*j for i in a for j in b]\n",
    "print(final)"
   ]
  },
  {
   "cell_type": "markdown",
   "id": "0d1bf353-653c-48e3-bdf0-feab84f80964",
   "metadata": {},
   "source": [
    "## 9. 2 ways to traverse a list\n",
    "- itemwise\n",
    "- indexwise"
   ]
  },
  {
   "cell_type": "code",
   "execution_count": 145,
   "id": "bf156cbb-7496-4ea7-a0a1-09fdcd83312b",
   "metadata": {},
   "outputs": [
    {
     "name": "stdout",
     "output_type": "stream",
     "text": [
      "1\n",
      "2\n",
      "3\n",
      "4\n",
      "5\n"
     ]
    }
   ],
   "source": [
    "## itemwise\n",
    "x = [1,2,3,4,5]\n",
    "\n",
    "for i in x:\n",
    "    print(i)"
   ]
  },
  {
   "cell_type": "code",
   "execution_count": 150,
   "id": "91da773b-b94d-473a-90b0-c04005a0ad03",
   "metadata": {},
   "outputs": [
    {
     "name": "stdout",
     "output_type": "stream",
     "text": [
      "Index of 1 is 0\n",
      "Index of 2 is 1\n",
      "Index of 3 is 2\n",
      "Index of 4 is 3\n",
      "Index of 5 is 4\n",
      "Index of 6 is 5\n"
     ]
    }
   ],
   "source": [
    "## Indexwise    ## interview question   ## Baaki languages mein sirf yahi loop work hota\n",
    "x = [1,2,3,4,5,6]\n",
    "\n",
    "for i in range(0,len(x)):\n",
    "    print(\"Index of\",x[i],\"is\",i)    #Index of x[i] i.e agar i=0 that has 1 and i 0"
   ]
  },
  {
   "cell_type": "markdown",
   "id": "51cd3db8-d2b2-417a-8391-747b38474bcb",
   "metadata": {},
   "source": [
    "## 10. Zip()"
   ]
  },
  {
   "cell_type": "markdown",
   "id": "029987e6-be6f-4386-9cce-b83752bcce68",
   "metadata": {},
   "source": [
    "- It returns a zip obj , which is an iterator of tuples where the first item in each passed iterator is paired together,\n",
    "- and then the second itemin each passed iterator are paired together\n",
    "- if the passed iterator is of diff lenghths, the iterator with the least item decides the lenght of new iterator"
   ]
  },
  {
   "cell_type": "code",
   "execution_count": 157,
   "id": "adb8b0fc-ada8-4b1c-80e5-113069ac8647",
   "metadata": {},
   "outputs": [
    {
     "data": {
      "text/plain": [
       "[2, 4, 6, 9, 12]"
      ]
     },
     "execution_count": 157,
     "metadata": {},
     "output_type": "execute_result"
    }
   ],
   "source": [
    "a = [1,2,3,5,6]\n",
    "b = [1,2,3,4,6]\n",
    "\n",
    "list(zip(a,b))\n",
    "\n",
    "[i+j for i,j in zip(a,b)]"
   ]
  },
  {
   "cell_type": "code",
   "execution_count": 159,
   "id": "82b40455-59fb-4605-99ee-5d1c8a1924cc",
   "metadata": {},
   "outputs": [
    {
     "name": "stdout",
     "output_type": "stream",
     "text": [
      "['hii', 1.3, <built-in function print>, <class 'type'>]\n"
     ]
    }
   ],
   "source": [
    "## can contain any kind of object in python\n",
    "\n",
    "lst = ['hii',1.3,print,type]\n",
    "\n",
    "print(lst)"
   ]
  },
  {
   "cell_type": "markdown",
   "id": "1e11abbc-1a90-459b-b3ed-fd9b6985a4a3",
   "metadata": {},
   "source": [
    "## Disadvanatage of python list\n",
    "- slow\n",
    "- more memory\n",
    "- more risky"
   ]
  },
  {
   "cell_type": "code",
   "execution_count": 163,
   "id": "7474d091-f0a3-4237-a9e7-ddd0e76790d4",
   "metadata": {},
   "outputs": [
    {
     "name": "stdout",
     "output_type": "stream",
     "text": [
      "[1, 2, 3, 4, 5]\n",
      "[1, 2, 3, 4, 5]\n",
      "[1, 2, 3, 4, 5, 4]\n",
      "[1, 2, 3, 4, 5, 4]\n"
     ]
    }
   ],
   "source": [
    "## more risky??\n",
    "a = [1,2,3,4,5]\n",
    "b = a\n",
    "\n",
    "print(a)\n",
    "print(b)\n",
    "a.append(4)\n",
    "print(b)\n",
    "print(a)"
   ]
  },
  {
   "cell_type": "code",
   "execution_count": 162,
   "id": "bfeaa53e-a01e-49ce-8eeb-0e16a3e3cc64",
   "metadata": {},
   "outputs": [
    {
     "name": "stdout",
     "output_type": "stream",
     "text": [
      "[1, 2, 3, 4, 5]\n",
      "[1, 2, 3, 4, 5]\n",
      "[1, 2, 3, 4, 5]\n",
      "[1, 2, 3, 4, 5, 4]\n"
     ]
    }
   ],
   "source": [
    "## solution\n",
    "a = [1,2,3,4,5]\n",
    "b = a.copy()\n",
    "\n",
    "print(a)\n",
    "print(b)\n",
    "a.append(4)\n",
    "print(b)\n",
    "print(a)"
   ]
  },
  {
   "cell_type": "code",
   "execution_count": null,
   "id": "237910d9-5618-4432-90b9-d0f7075de803",
   "metadata": {},
   "outputs": [],
   "source": []
  }
 ],
 "metadata": {
  "kernelspec": {
   "display_name": "Python 3 (ipykernel)",
   "language": "python",
   "name": "python3"
  },
  "language_info": {
   "codemirror_mode": {
    "name": "ipython",
    "version": 3
   },
   "file_extension": ".py",
   "mimetype": "text/x-python",
   "name": "python",
   "nbconvert_exporter": "python",
   "pygments_lexer": "ipython3",
   "version": "3.13.1"
  }
 },
 "nbformat": 4,
 "nbformat_minor": 5
}
