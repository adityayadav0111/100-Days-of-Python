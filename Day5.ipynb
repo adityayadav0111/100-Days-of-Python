{
 "cells": [
  {
   "cell_type": "markdown",
   "id": "f86a07f3-f778-476c-bd9b-4b929947160e",
   "metadata": {},
   "source": [
    "## Tuple\n",
    "- A tuple in python is similar to a list. The difference between the two is that we cannot change the element of tuple once it is assigned whereas we  can change element of list\n",
    "- in short tuple is immutable list\n",
    "- a tuple cannot be changed in a way once it is created\n",
    "\n",
    "## Characteristics\n",
    "- Ordered (Means the ordering matter 1,2,3 is not equal to 3,2,1)\n",
    "- Unchangeable\n",
    "- Allow duplicates\n",
    "\n",
    "## Things to learn\n",
    "- Creating a tuple\n",
    "- accessing a item\n",
    "- Editing\n",
    "- Adding item\n",
    "- Delete\n",
    "- Operations on tuple\n",
    "- Tuple function\n"
   ]
  },
  {
   "cell_type": "markdown",
   "id": "43e83112-d491-413b-bbe9-e8f9dd97e85b",
   "metadata": {},
   "source": [
    "## 1. Creating a Tuple"
   ]
  },
  {
   "cell_type": "code",
   "execution_count": 1,
   "id": "4210e237-731d-4344-aac2-4b8deeed9cc8",
   "metadata": {},
   "outputs": [
    {
     "name": "stdout",
     "output_type": "stream",
     "text": [
      "()\n",
      "<class 'tuple'>\n",
      "4\n",
      "<class 'int'>\n",
      "(4,)\n",
      "<class 'tuple'>\n",
      "(1, 2, 3, 4, 5)\n",
      "(1, True, 3.4, [1, 2, 3, 4], (4+3j))\n",
      "(1, 2, 3, (4, 5))\n",
      "('H', 'e', 'l', 'l', 'o')\n"
     ]
    }
   ],
   "source": [
    "## Empty\n",
    "t1 = ()\n",
    "print(t1)\n",
    "print(type(t1))\n",
    "\n",
    "## Single element tuple\n",
    "t2 = (4)\n",
    "print(t2)\n",
    "print(type(t2))\n",
    "t2_1 = (4,)  \n",
    "print(t2_1)\n",
    "print(type(t2_1))\n",
    "\n",
    "## Homogenous Tuple\n",
    "t3 = (1,2,3,4,5)\n",
    "print(t3)\n",
    "\n",
    "## Heterogenous Tuple\n",
    "t4 = (1,True,3.4,[1,2,3,4],4+3j)\n",
    "print(t4)\n",
    "\n",
    "## 2D tuple\n",
    "t5 = (1,2,3,(4,5))\n",
    "print(t5)\n",
    "\n",
    "## Using Type Conversion\n",
    "t6 = tuple(\"Hello\")\n",
    "print(t6)"
   ]
  },
  {
   "cell_type": "markdown",
   "id": "3a313fae-8c62-47c7-9bc4-1b9e26ebef83",
   "metadata": {},
   "source": [
    "## 2. Accessing a item"
   ]
  },
  {
   "cell_type": "code",
   "execution_count": 15,
   "id": "29ba3960-44a4-4939-8f4b-75a33ed986c9",
   "metadata": {},
   "outputs": [
    {
     "name": "stdout",
     "output_type": "stream",
     "text": [
      "(6, 7)\n",
      "1\n",
      "(1, 2, 3)\n"
     ]
    }
   ],
   "source": [
    "## Same as list and string\n",
    "t = (1,2,3,4,5,(6,7))\n",
    "## Indexing \n",
    "print(t[-1])\n",
    "print(t[0])\n",
    "## Slicing\n",
    "print(t[0:3])"
   ]
  },
  {
   "cell_type": "markdown",
   "id": "18e3ef1e-d52a-44ce-88c3-d5d907d38448",
   "metadata": {},
   "source": [
    "## 3. Editing a item"
   ]
  },
  {
   "cell_type": "code",
   "execution_count": 17,
   "id": "47c76880-9e7f-43ae-a311-a0d8059b5d09",
   "metadata": {},
   "outputs": [
    {
     "ename": "TypeError",
     "evalue": "'tuple' object does not support item assignment",
     "output_type": "error",
     "traceback": [
      "\u001b[1;31m---------------------------------------------------------------------------\u001b[0m",
      "\u001b[1;31mTypeError\u001b[0m                                 Traceback (most recent call last)",
      "Cell \u001b[1;32mIn[17], line 2\u001b[0m\n\u001b[0;32m      1\u001b[0m t \u001b[38;5;241m=\u001b[39m (\u001b[38;5;241m1\u001b[39m,\u001b[38;5;241m2\u001b[39m,\u001b[38;5;241m3\u001b[39m,\u001b[38;5;241m4\u001b[39m,\u001b[38;5;241m5\u001b[39m,(\u001b[38;5;241m6\u001b[39m,\u001b[38;5;241m7\u001b[39m))\n\u001b[1;32m----> 2\u001b[0m \u001b[43mt\u001b[49m\u001b[43m[\u001b[49m\u001b[38;5;241;43m0\u001b[39;49m\u001b[43m]\u001b[49m \u001b[38;5;241m=\u001b[39m \u001b[38;5;241m100\u001b[39m\n\u001b[0;32m      3\u001b[0m \u001b[38;5;66;03m## Just like strings tuple is also immutable \u001b[39;00m\n",
      "\u001b[1;31mTypeError\u001b[0m: 'tuple' object does not support item assignment"
     ]
    }
   ],
   "source": [
    "t = (1,2,3,4,5,(6,7))\n",
    "t[0] = 100\n",
    "## Just like strings tuple is also immutable "
   ]
  },
  {
   "cell_type": "markdown",
   "id": "e2db7ff2-5ddf-45c8-b6a3-3dd8ac7f8f1e",
   "metadata": {},
   "source": [
    "## 4. Adding item"
   ]
  },
  {
   "cell_type": "code",
   "execution_count": 18,
   "id": "74fa9b24-e8f0-4d76-9ade-8888f821772c",
   "metadata": {},
   "outputs": [],
   "source": [
    "## Not possible"
   ]
  },
  {
   "cell_type": "markdown",
   "id": "81ec398d-3eaf-4d93-8166-20b781ad7041",
   "metadata": {},
   "source": [
    "## 5. Delete"
   ]
  },
  {
   "cell_type": "code",
   "execution_count": 21,
   "id": "25e60ac2-2546-4d49-9eba-7389954b88f2",
   "metadata": {},
   "outputs": [
    {
     "name": "stdout",
     "output_type": "stream",
     "text": [
      "(1, 2, 3, 4, 5, (6, 7))\n"
     ]
    },
    {
     "ename": "NameError",
     "evalue": "name 't' is not defined",
     "output_type": "error",
     "traceback": [
      "\u001b[1;31m---------------------------------------------------------------------------\u001b[0m",
      "\u001b[1;31mNameError\u001b[0m                                 Traceback (most recent call last)",
      "Cell \u001b[1;32mIn[21], line 4\u001b[0m\n\u001b[0;32m      2\u001b[0m \u001b[38;5;28mprint\u001b[39m(t)\n\u001b[0;32m      3\u001b[0m \u001b[38;5;28;01mdel\u001b[39;00m t\n\u001b[1;32m----> 4\u001b[0m \u001b[38;5;28mprint\u001b[39m(\u001b[43mt\u001b[49m)\n\u001b[0;32m      6\u001b[0m \u001b[38;5;66;03m## Slice/index Deletion\u001b[39;00m\n\u001b[0;32m      7\u001b[0m t1 \u001b[38;5;241m=\u001b[39m [\u001b[38;5;241m1\u001b[39m,\u001b[38;5;241m2\u001b[39m,\u001b[38;5;241m3\u001b[39m,\u001b[38;5;241m4\u001b[39m,\u001b[38;5;241m5\u001b[39m]\n",
      "\u001b[1;31mNameError\u001b[0m: name 't' is not defined"
     ]
    }
   ],
   "source": [
    "t = (1,2,3,4,5,(6,7))\n",
    "print(t)\n",
    "del t\n",
    "print(t)"
   ]
  },
  {
   "cell_type": "code",
   "execution_count": 24,
   "id": "cd17b86c-6e96-432b-9640-88fe827c3225",
   "metadata": {},
   "outputs": [
    {
     "ename": "TypeError",
     "evalue": "'tuple' object doesn't support item deletion",
     "output_type": "error",
     "traceback": [
      "\u001b[1;31m---------------------------------------------------------------------------\u001b[0m",
      "\u001b[1;31mTypeError\u001b[0m                                 Traceback (most recent call last)",
      "Cell \u001b[1;32mIn[24], line 3\u001b[0m\n\u001b[0;32m      1\u001b[0m \u001b[38;5;66;03m## Slice/index Deletion\u001b[39;00m\n\u001b[0;32m      2\u001b[0m t1 \u001b[38;5;241m=\u001b[39m (\u001b[38;5;241m1\u001b[39m,\u001b[38;5;241m2\u001b[39m,\u001b[38;5;241m3\u001b[39m,\u001b[38;5;241m4\u001b[39m,\u001b[38;5;241m5\u001b[39m)\n\u001b[1;32m----> 3\u001b[0m \u001b[38;5;28;01mdel\u001b[39;00m \u001b[43mt1\u001b[49m\u001b[43m[\u001b[49m\u001b[38;5;241;43m-\u001b[39;49m\u001b[38;5;241;43m1\u001b[39;49m\u001b[43m]\u001b[49m\n\u001b[0;32m      4\u001b[0m \u001b[38;5;28mprint\u001b[39m(t1)\n",
      "\u001b[1;31mTypeError\u001b[0m: 'tuple' object doesn't support item deletion"
     ]
    }
   ],
   "source": [
    "## Slice/index Deletion\n",
    "t1 = (1,2,3,4,5)\n",
    "del t1[-1]\n",
    "print(t1)"
   ]
  },
  {
   "cell_type": "markdown",
   "id": "f490ccda-8d1d-400e-a763-7386b6b856ab",
   "metadata": {},
   "source": [
    "Partial tuple items cant be deleted "
   ]
  },
  {
   "cell_type": "markdown",
   "id": "2d320082-0543-4507-a9d7-71ead508742a",
   "metadata": {},
   "source": [
    "## 6. Operations on tuple"
   ]
  },
  {
   "cell_type": "code",
   "execution_count": 2,
   "id": "4369584c-152e-4dc3-8988-f878b19fc85b",
   "metadata": {},
   "outputs": [
    {
     "name": "stdout",
     "output_type": "stream",
     "text": [
      "(1, 2, 3, 4, 5, 1, 2, 3, 4, 5)\n",
      "(1, 2, 3, 4, 5, 1, 2, 3, 4, 5, 1, 2, 3, 4, 5)\n",
      "True\n",
      "True\n",
      "1\n",
      "2\n",
      "3\n",
      "4\n",
      "5\n"
     ]
    }
   ],
   "source": [
    "## ARITHMETIC OPERATOR\n",
    "t1 = (1,2,3,4,5)\n",
    "t2 = (1,2,3,4,5)\n",
    "## ConcaT/Merge\n",
    "print(t1+t2)\n",
    "## *\n",
    "print(t1*3)\n",
    "\n",
    "## MEMEBERSHIP\n",
    "print(1 in t1)\n",
    "print(10 not in t1)\n",
    "\n",
    "## Looping\n",
    "for i in t1:\n",
    "    print(i)"
   ]
  },
  {
   "cell_type": "markdown",
   "id": "d2a7216f-c863-4ef7-903f-b74344710cbf",
   "metadata": {},
   "source": [
    "## 7. Tuple Operation"
   ]
  },
  {
   "cell_type": "code",
   "execution_count": 39,
   "id": "229d8fb4-97ed-457c-a999-16de63731b14",
   "metadata": {},
   "outputs": [
    {
     "name": "stdout",
     "output_type": "stream",
     "text": [
      "5\n",
      "15\n",
      "1\n",
      "5\n",
      "[5, 4, 3, 2, 1]\n",
      "1\n"
     ]
    },
    {
     "data": {
      "text/plain": [
       "3"
      ]
     },
     "execution_count": 39,
     "metadata": {},
     "output_type": "execute_result"
    }
   ],
   "source": [
    "t1 = (1,2,3,4,5)\n",
    "\n",
    "## LEN()\n",
    "print(len(t1))\n",
    "\n",
    "## SUM()\n",
    "print(sum(t1))\n",
    "\n",
    "## MIN()\n",
    "print(min(t1))\n",
    "\n",
    "## MAX()\n",
    "print(max(t1))\n",
    "\n",
    "## Sorted\n",
    "print(sorted(t1,reverse=True))   ## list mein output\n",
    "\n",
    "## Count\n",
    "print(t1.count(3))\n",
    "\n",
    "## Index\n",
    "t1.index(4)"
   ]
  },
  {
   "cell_type": "markdown",
   "id": "a0fa1670-1541-4cd5-a2b7-b7d0b29e4cd5",
   "metadata": {},
   "source": [
    "## Difference Between Tuple and Lists\n",
    "- Syntax\n",
    "- Mutability\n",
    "- Speed  (Tuples are faster than list)\n",
    "- Memory\n",
    "- Built in functionality   (list has more functions)\n",
    "- Error Prone  (list is more error prone)\n",
    "- Usability  (tuple is good for readable object whereas list is good for making object that need to change from time to time)"
   ]
  },
  {
   "cell_type": "code",
   "execution_count": 10,
   "id": "5baca165-1e85-41ef-afe7-a3881206b294",
   "metadata": {},
   "outputs": [
    {
     "name": "stdout",
     "output_type": "stream",
     "text": [
      "Time taken:  0.147648\n",
      "Time taken:  0.14453\n"
     ]
    }
   ],
   "source": [
    "## Time\n",
    "import time\n",
    "\n",
    "L = list(range(1000000))\n",
    "T = tuple(range(1000000))\n",
    "\n",
    "start_time = time.time()\n",
    "for i in L:\n",
    "    i*5\n",
    "print(\"Time taken: \",round(time.time()-start_time,6))\n",
    "\n",
    "start_time = time.time()\n",
    "for i in T:\n",
    "    i*5\n",
    "print(\"Time taken: \",round(time.time()-start_time,6))"
   ]
  },
  {
   "cell_type": "code",
   "execution_count": 11,
   "id": "46232f42-4d02-442d-93a3-85efd22ee9c0",
   "metadata": {},
   "outputs": [
    {
     "name": "stdout",
     "output_type": "stream",
     "text": [
      "list:  104\n",
      "tuple:  80\n"
     ]
    }
   ],
   "source": [
    "## Memory\n",
    "import sys\n",
    "lst = [1,2,3,4,5]\n",
    "tup = (1,2,3,4,5)\n",
    "\n",
    "print(\"list: \",sys.getsizeof(lst))\n",
    "print(\"tuple: \",sys.getsizeof(tup))"
   ]
  },
  {
   "cell_type": "code",
   "execution_count": 14,
   "id": "9a272bed-7be3-4db5-af36-aa2c9f864a0e",
   "metadata": {},
   "outputs": [
    {
     "name": "stdout",
     "output_type": "stream",
     "text": [
      "[1, 2, 3, 4, 5, 6]\n",
      "[1, 2, 3, 4, 5, 6]\n",
      "(1, 2, 3, 4, 5, 6)\n",
      "(1, 2, 3, 4, 5)\n"
     ]
    }
   ],
   "source": [
    "## Error prone\n",
    "## List\n",
    "a = [1,2,3,4,5]\n",
    "b = a\n",
    "\n",
    "a.append(6)\n",
    "print(a)\n",
    "print(b)\n",
    "\n",
    "## Tuple \n",
    "a = (1,2,3,4,5)\n",
    "b = a\n",
    "\n",
    "a = a + (6,)  #since we cant add element\n",
    "print(a)\n",
    "print(b)"
   ]
  },
  {
   "cell_type": "markdown",
   "id": "9e1d5da5-5367-4af6-b44e-38913040e82f",
   "metadata": {},
   "source": [
    "## Special Syntax\n",
    "- Tuple Unpacking"
   ]
  },
  {
   "cell_type": "code",
   "execution_count": 15,
   "id": "3c3054d2-438f-44b1-bb6a-ed411c4d642d",
   "metadata": {},
   "outputs": [
    {
     "name": "stdout",
     "output_type": "stream",
     "text": [
      "1 2 3\n"
     ]
    }
   ],
   "source": [
    "## Tuple Unpacking\n",
    "a,b,c = (1,2,3)\n",
    "print(a,b,c)"
   ]
  },
  {
   "cell_type": "code",
   "execution_count": 16,
   "id": "b09b782e-5764-49b4-a7f8-d2b8d2252898",
   "metadata": {},
   "outputs": [
    {
     "ename": "ValueError",
     "evalue": "too many values to unpack (expected 3)",
     "output_type": "error",
     "traceback": [
      "\u001b[1;31m---------------------------------------------------------------------------\u001b[0m",
      "\u001b[1;31mValueError\u001b[0m                                Traceback (most recent call last)",
      "Cell \u001b[1;32mIn[16], line 1\u001b[0m\n\u001b[1;32m----> 1\u001b[0m a,b,c \u001b[38;5;241m=\u001b[39m (\u001b[38;5;241m1\u001b[39m,\u001b[38;5;241m2\u001b[39m,\u001b[38;5;241m3\u001b[39m,\u001b[38;5;241m4\u001b[39m)\n",
      "\u001b[1;31mValueError\u001b[0m: too many values to unpack (expected 3)"
     ]
    }
   ],
   "source": [
    "a,b,c = (1,2,3,4)"
   ]
  },
  {
   "cell_type": "code",
   "execution_count": 18,
   "id": "2a30c0ed-efb9-4ab0-b6ab-f30cea41d015",
   "metadata": {},
   "outputs": [
    {
     "name": "stdout",
     "output_type": "stream",
     "text": [
      "2 1\n"
     ]
    }
   ],
   "source": [
    "## Swap two numer --- 34--43\n",
    "a = 1\n",
    "b = 2\n",
    "a,b = b,a\n",
    "\n",
    "print(a,b)"
   ]
  },
  {
   "cell_type": "code",
   "execution_count": 20,
   "id": "faec6a52-9a19-4be1-933d-afdb71ac108d",
   "metadata": {},
   "outputs": [
    {
     "name": "stdout",
     "output_type": "stream",
     "text": [
      "1 2\n",
      "[3, 4, 5, 6, 7]\n"
     ]
    }
   ],
   "source": [
    "a,b,*c = (1,2,3,4,5,6,7)\n",
    "\n",
    "print(a,b)\n",
    "print(c)"
   ]
  },
  {
   "cell_type": "code",
   "execution_count": 24,
   "id": "e829bcc6-8915-4e3b-8323-242b7603edd9",
   "metadata": {},
   "outputs": [
    {
     "data": {
      "text/plain": [
       "((1, 1), (2, 2), (3, 3), (4, 4), (5, 5))"
      ]
     },
     "execution_count": 24,
     "metadata": {},
     "output_type": "execute_result"
    }
   ],
   "source": [
    "## ZIP()\n",
    "\n",
    "t1 = (1,2,3,4,5)\n",
    "t2 = (1,2,3,4,5)\n",
    "\n",
    "tuple(zip(t1,t2))\n",
    "\n",
    "# (i*j for i,j in zip(t1,t2))"
   ]
  },
  {
   "cell_type": "markdown",
   "id": "7642a91a-966e-45e3-9cf9-e03f89605053",
   "metadata": {},
   "source": [
    "## Tuple Comprehension"
   ]
  },
  {
   "cell_type": "code",
   "execution_count": 34,
   "id": "ae3774a8-8129-4ab9-b5c8-d1492f906853",
   "metadata": {},
   "outputs": [
    {
     "name": "stdout",
     "output_type": "stream",
     "text": [
      "This is generator <generator object <genexpr> at 0x0000023831970110>\n",
      "(5, 10, 15, 20, 25, 30, 35, 40, 45, 50)\n"
     ]
    }
   ],
   "source": [
    "## Table of 5\n",
    "print(\"This is generator\",( i*5 for i in range(1,11)))\n",
    "\n",
    "tup = tuple( i*5 for i in range(1,11))\n",
    "print(tup)"
   ]
  },
  {
   "cell_type": "markdown",
   "id": "98b07809-2a87-4ce2-8fb6-e7f4e0f563fb",
   "metadata": {},
   "source": [
    "# SET\n",
    "- A set is unordered collection of items. Every set element is unique (no duplicates) and must be immutable (cannot be changed). However set itself is mutable. we can add or remove items from it.\n",
    "- Set can also be used to perform mathemathical set operation like union, intersection, symmetric difference ,etc\n",
    "# Characteristics\n",
    "- Unordered\n",
    "- Mutable\n",
    "- No Duplicates\n",
    "- Cant contain mutable datatypes"
   ]
  },
  {
   "cell_type": "markdown",
   "id": "5cdfc364-34eb-492b-81fd-bd47b0e0297b",
   "metadata": {},
   "source": [
    "## Creating a set"
   ]
  },
  {
   "cell_type": "code",
   "execution_count": 4,
   "id": "e6184b19-fa1b-473d-96a7-218a521d6a0d",
   "metadata": {},
   "outputs": [
    {
     "name": "stdout",
     "output_type": "stream",
     "text": [
      "{}\n",
      "set()\n",
      "<class 'dict'>\n",
      "<class 'set'>\n",
      "{1, 2, 3, 4, 5}\n",
      "{1, 2, 3, 4, 5, (1, 2, 3)}\n",
      "{1, 2, 3, 4}\n",
      "{1, 2.3, (3+4j)}\n",
      "{1, 2, 3}\n",
      "{1, 2, 3, 4, 5, 6}\n",
      "True\n"
     ]
    }
   ],
   "source": [
    "## Empty \n",
    "s = {}\n",
    "s1 = set()\n",
    "print(s)\n",
    "print(s1)\n",
    "print(type(s))\n",
    "print(type(s1))\n",
    "\n",
    "## 1D and 2D\n",
    "s3 = {1,2,3,4,5}   ## 1D\n",
    "print(s3)\n",
    "# s4 = {1,2,3,{4,5}}  # error: TypeError: unhashable type: 'set'\n",
    "## 2D\n",
    "s4 = {1,2,3,4,5,(1,2,3)}\n",
    "print(s4)\n",
    "\n",
    "# Homo and Hetro\n",
    "s5 = {1,2,3,4}\n",
    "print(s5)\n",
    "s6 = {1, 2.3,True,3+4j}    ## True ==1\n",
    "print(s6)\n",
    "\n",
    "## Using Type Conversion \n",
    "s7 = set([1,2,3])\n",
    "print(s7)\n",
    "\n",
    "## Duplicates not allowed\n",
    "s8 = {1,2,2,3,4,4,5,6,}\n",
    "print(s8)\n",
    "\n",
    "# sets cant have mutable items\n",
    "## list\n",
    "# s9 = {1,2,3,[1,2,3,4]}\n",
    "# print(s9)\n",
    "\n",
    "\n",
    "## Order doesnt matter\n",
    "s10 = {1,2,3}\n",
    "s11 = {3,2,1}\n",
    "\n",
    "print(s10 == s11)"
   ]
  },
  {
   "cell_type": "markdown",
   "id": "68fb36d1-6e21-4f2e-963c-bf6cd8d550f0",
   "metadata": {},
   "source": [
    "## 1. Accessing items of set"
   ]
  },
  {
   "cell_type": "code",
   "execution_count": 15,
   "id": "407feafd-2cbe-4a70-bd52-6b4e33a9e59f",
   "metadata": {},
   "outputs": [
    {
     "ename": "TypeError",
     "evalue": "'set' object is not subscriptable",
     "output_type": "error",
     "traceback": [
      "\u001b[1;31m---------------------------------------------------------------------------\u001b[0m",
      "\u001b[1;31mTypeError\u001b[0m                                 Traceback (most recent call last)",
      "Cell \u001b[1;32mIn[15], line 4\u001b[0m\n\u001b[0;32m      1\u001b[0m s1 \u001b[38;5;241m=\u001b[39m {\u001b[38;5;241m1\u001b[39m,\u001b[38;5;241m2\u001b[39m,\u001b[38;5;241m3\u001b[39m,\u001b[38;5;241m4\u001b[39m,\u001b[38;5;241m5\u001b[39m,\u001b[38;5;241m6\u001b[39m,\u001b[38;5;241m7\u001b[39m,\u001b[38;5;241m8\u001b[39m}\n\u001b[0;32m      3\u001b[0m \u001b[38;5;66;03m## Here accessing is not possible since data are unordered\u001b[39;00m\n\u001b[1;32m----> 4\u001b[0m \u001b[43ms1\u001b[49m\u001b[43m[\u001b[49m\u001b[38;5;241;43m0\u001b[39;49m\u001b[43m]\u001b[49m\n\u001b[0;32m      5\u001b[0m s[\u001b[38;5;241m0\u001b[39m:\u001b[38;5;241m3\u001b[39m]\n\u001b[0;32m      6\u001b[0m s[\u001b[38;5;241m-\u001b[39m\u001b[38;5;241m1\u001b[39m]\n",
      "\u001b[1;31mTypeError\u001b[0m: 'set' object is not subscriptable"
     ]
    }
   ],
   "source": [
    "s1 = {1,2,3,4,5,6,7,8}\n",
    "\n",
    "## Here accessing is not possible since data are unordered\n",
    "s1[0]\n",
    "s[0:3]\n",
    "s[-1]"
   ]
  },
  {
   "cell_type": "markdown",
   "id": "36166b52-c1d0-40d1-b74b-7506dc9db821",
   "metadata": {},
   "source": [
    "## 2. Editing an item of sets"
   ]
  },
  {
   "cell_type": "code",
   "execution_count": 16,
   "id": "5faaf6ec-e876-45c4-b1f7-4b52afc1cd7f",
   "metadata": {},
   "outputs": [
    {
     "ename": "TypeError",
     "evalue": "'set' object does not support item assignment",
     "output_type": "error",
     "traceback": [
      "\u001b[1;31m---------------------------------------------------------------------------\u001b[0m",
      "\u001b[1;31mTypeError\u001b[0m                                 Traceback (most recent call last)",
      "Cell \u001b[1;32mIn[16], line 4\u001b[0m\n\u001b[0;32m      1\u001b[0m s1 \u001b[38;5;241m=\u001b[39m {\u001b[38;5;241m1\u001b[39m,\u001b[38;5;241m2\u001b[39m,\u001b[38;5;241m3\u001b[39m,\u001b[38;5;241m4\u001b[39m,\u001b[38;5;241m5\u001b[39m,\u001b[38;5;241m6\u001b[39m}\n\u001b[0;32m      3\u001b[0m \u001b[38;5;66;03m## Doesnt work\u001b[39;00m\n\u001b[1;32m----> 4\u001b[0m \u001b[43ms1\u001b[49m\u001b[43m[\u001b[49m\u001b[38;5;241;43m0\u001b[39;49m\u001b[43m]\u001b[49m \u001b[38;5;241m=\u001b[39m \u001b[38;5;241m100\u001b[39m\n",
      "\u001b[1;31mTypeError\u001b[0m: 'set' object does not support item assignment"
     ]
    }
   ],
   "source": [
    "s1 = {1,2,3,4,5,6}\n",
    "\n",
    "## Doesnt work\n",
    "s1[0] = 100"
   ]
  },
  {
   "cell_type": "markdown",
   "id": "bde08216-776c-4d31-8ee6-292f6b35e512",
   "metadata": {},
   "source": [
    "In short, we cant access element or edit an item of set but we can add new element."
   ]
  },
  {
   "cell_type": "markdown",
   "id": "623a92fa-9d61-4164-a1b8-42fcb7b12ec8",
   "metadata": {},
   "source": [
    "## Adding a new element in a set"
   ]
  },
  {
   "cell_type": "code",
   "execution_count": 7,
   "id": "ef8faa9e-8e72-4ddc-a2b6-b6762ee512f7",
   "metadata": {},
   "outputs": [
    {
     "name": "stdout",
     "output_type": "stream",
     "text": [
      "{1, 2, 3, 4, 5, 6, 10}\n",
      "{1, 2, 3, 4, 5, 6, 7, 8, 9, 10}\n"
     ]
    }
   ],
   "source": [
    "s1 = {1,2,3,4,5,6}\n",
    "## ADD   - This can only add one element\n",
    "s1.add(10)\n",
    "print(s1)\n",
    "\n",
    "## Update - can add multiple element\n",
    "s1.update([7,8,9])\n",
    "print(s1)"
   ]
  },
  {
   "cell_type": "markdown",
   "id": "8c2a7ed2-d6ec-44e4-b1c5-053c3187f57e",
   "metadata": {},
   "source": [
    "## Deletion"
   ]
  },
  {
   "cell_type": "code",
   "execution_count": 33,
   "id": "b956e613-1e12-4811-a8a7-0d4ae72a24ab",
   "metadata": {},
   "outputs": [
    {
     "name": "stdout",
     "output_type": "stream",
     "text": [
      "set()\n"
     ]
    }
   ],
   "source": [
    "s1 = {1,2,3,4,5}\n",
    "\n",
    "## DEL \n",
    "# print(s1)\n",
    "# del s1 \n",
    "# print(s1)\n",
    "\n",
    "## Discard - specified element ko delete karega and also if value is not in the set it will not throw error\n",
    "# s1.discard(5)\n",
    "# print(s1)\n",
    "# s1.discard(50)\n",
    "# print(s1)\n",
    "\n",
    "## Remove - works same way like discard but if value is not in the set it will throw error\n",
    "# s1.remove(5)\n",
    "# print(s1)\n",
    "# s1.remove(50)\n",
    "# print(s1)    ## keyerror\n",
    "\n",
    "## pop - remove random element\n",
    "# s1.pop()   #takes no argument\n",
    "# print(s1)\n",
    "\n",
    "## clear: to clear element of set\n",
    "s1.clear()\n",
    "print(s1)"
   ]
  },
  {
   "cell_type": "markdown",
   "id": "26dea5ef-586b-48b2-ab4f-e54700b619bd",
   "metadata": {},
   "source": [
    "## Set operations"
   ]
  },
  {
   "cell_type": "code",
   "execution_count": 48,
   "id": "c50176a9-a4cf-49a8-b23a-7cc89d608dda",
   "metadata": {},
   "outputs": [
    {
     "name": "stdout",
     "output_type": "stream",
     "text": [
      "{1, 2, 3, 4, 5, 6, 7, 8}\n",
      "{1, 2, 3, 4, 5, 6, 7, 8}\n",
      "{4, 5}\n",
      "{4, 5}\n",
      "{1, 2, 3}\n",
      "{1, 2, 3}\n",
      "{8, 6, 7}\n",
      "{1, 2, 3, 6, 7, 8}\n",
      "{1, 2, 3, 6, 7, 8}\n",
      "True\n",
      "False\n",
      "1\n",
      "2\n",
      "3\n",
      "4\n",
      "5\n"
     ]
    }
   ],
   "source": [
    "s1 = {1,2,3,4,5}\n",
    "s2 = {4,5,6,7,8}\n",
    "\n",
    "## UNION (|)\n",
    "print(s1.union(s2))\n",
    "print( s1 | s2)\n",
    "\n",
    "## Intersection\n",
    "print(s1.intersection(s2))\n",
    "print(s1 & s2)\n",
    "\n",
    "## Difference (pehle set ke saare element jo dusre set mein exist nhi karte)\n",
    "print(s1.difference(s2))\n",
    "print(s1 - s2)\n",
    "print(s2 - s1)\n",
    "\n",
    "## Symmetric Difference\n",
    "print(s1.symmetric_difference(s2))\n",
    "print(s1 ^ s2)\n",
    "\n",
    "## Membership test\n",
    "print(1 in s1)\n",
    "print(2 not in s1)\n",
    "\n",
    "## Loops\n",
    "for i in s1:\n",
    "    print(i)"
   ]
  },
  {
   "cell_type": "markdown",
   "id": "351c7d50-b7af-4df5-be5c-2664b7f8745d",
   "metadata": {},
   "source": [
    "## Set Functions"
   ]
  },
  {
   "cell_type": "code",
   "execution_count": 54,
   "id": "cbb3cf94-f39a-4116-9703-ac17bf304b1f",
   "metadata": {},
   "outputs": [
    {
     "name": "stdout",
     "output_type": "stream",
     "text": [
      "5\n",
      "15\n",
      "1\n",
      "5\n",
      "[1, 2, 3, 4, 5]\n",
      "[5, 4, 3, 2, 1]\n"
     ]
    }
   ],
   "source": [
    "s1 = {1,2,3,4,5}\n",
    "\n",
    "## len \n",
    "print(len(s1))\n",
    "\n",
    "## sum\n",
    "print(sum(s1))\n",
    "\n",
    "## min\n",
    "print(min(s1))\n",
    "\n",
    "## max \n",
    "print(max(s1))\n",
    "\n",
    "## sorted\n",
    "print(sorted(s1))  ## output will be in list\n",
    "print(sorted(s1,reverse=True))"
   ]
  },
  {
   "cell_type": "code",
   "execution_count": 56,
   "id": "f2d1f844-1275-4169-ba50-ec96673c3fc5",
   "metadata": {},
   "outputs": [
    {
     "name": "stdout",
     "output_type": "stream",
     "text": [
      "{1, 2, 3, 4, 5, 6, 7, 8}\n",
      "{1, 2, 3, 4, 5, 6, 7, 8}\n",
      "{4, 5, 6, 7, 8}\n"
     ]
    }
   ],
   "source": [
    "## Union / Update\n",
    "s1 = {1,2,3,4,5}\n",
    "s2 ={4,5,6,7,8}\n",
    "\n",
    "# s1 | s2\n",
    "print(s1.union(s2))\n",
    "\n",
    "## update\n",
    "s1.update(s2)\n",
    "print(s1)\n",
    "print(s2)"
   ]
  },
  {
   "cell_type": "code",
   "execution_count": 58,
   "id": "b5a1b3f3-4a6b-4a1b-aa93-76e4490801d1",
   "metadata": {},
   "outputs": [
    {
     "name": "stdout",
     "output_type": "stream",
     "text": [
      "{4, 5}\n",
      "{4, 5, 6, 7, 8}\n"
     ]
    }
   ],
   "source": [
    "## Intersection / Intersection Update\n",
    "s1 = {1,2,3,4,5}\n",
    "s2 ={4,5,6,7,8}\n",
    "\n",
    "s1.intersection(s2)\n",
    "\n",
    "s1.intersection_update(s2)\n",
    "print(s1)   ## permenant changes aa gaye\n",
    "print(s2)"
   ]
  },
  {
   "cell_type": "code",
   "execution_count": 60,
   "id": "521486a6-0af9-464f-a94d-c8b6444b167b",
   "metadata": {},
   "outputs": [
    {
     "name": "stdout",
     "output_type": "stream",
     "text": [
      "{1, 2, 3}\n",
      "{4, 5, 6, 7, 8}\n"
     ]
    }
   ],
   "source": [
    "# Difference / Difference_update\n",
    "s1 = {1,2,3,4,5}\n",
    "s2 ={4,5,6,7,8}\n",
    "\n",
    "s1.difference(s2)\n",
    "\n",
    "s1.difference_update(s2)\n",
    "print(s1)\n",
    "print(s2)"
   ]
  },
  {
   "cell_type": "code",
   "execution_count": 62,
   "id": "e65d84b0-406e-419e-8a30-3746a42008af",
   "metadata": {},
   "outputs": [
    {
     "name": "stdout",
     "output_type": "stream",
     "text": [
      "{1, 2, 3, 6, 7, 8}\n",
      "{4, 5, 6, 7, 8}\n"
     ]
    }
   ],
   "source": [
    "## Symmetric Differnce / Symmertic Differnce update\n",
    "s1 = {1,2,3,4,5}\n",
    "s2 ={4,5,6,7,8}\n",
    "\n",
    "s1.symmetric_difference(s2)\n",
    "\n",
    "s1.symmetric_difference_update(s2)\n",
    "print(s1)\n",
    "print(s2)"
   ]
  },
  {
   "cell_type": "code",
   "execution_count": 69,
   "id": "309f62a4-d76a-49b3-8305-a07b542aa3ba",
   "metadata": {},
   "outputs": [
    {
     "name": "stdout",
     "output_type": "stream",
     "text": [
      "True\n",
      "True\n",
      "True\n",
      "{1, 2, 3, 4, 5, 6, 7}\n",
      "{1, 2, 3, 4, 5, 6, 7}\n"
     ]
    }
   ],
   "source": [
    "## isdisjoint (set that do not have any common value)\n",
    "s1 = {1,2,3,4,5}\n",
    "s2 ={4,5,6,7,8}\n",
    "s3={6,7}\n",
    "print(s1.isdisjoint(s3))\n",
    "\n",
    "##Issubset\n",
    "s4 = {1,2,3,4,5,6}\n",
    "s5 = {3,5,6}\n",
    "print(s5.issubset(s4))\n",
    "\n",
    "## Issuperset\n",
    "print(s4.issuperset(s5))\n",
    "\n",
    "## Copy() --shallow copy\n",
    "s10 = {1,2,3,4,5,6,6,7}\n",
    "s11 = s10.copy()\n",
    "\n",
    "print(s10)\n",
    "print(s11)"
   ]
  },
  {
   "cell_type": "markdown",
   "id": "9e2f2524-e282-40f2-952a-aa693a338a51",
   "metadata": {},
   "source": [
    "# Frozen set\n",
    "- Frozen set is just an immutable version of a python set object"
   ]
  },
  {
   "cell_type": "code",
   "execution_count": 70,
   "id": "c52017bd-3d12-411f-b2e7-b55a62931e7a",
   "metadata": {},
   "outputs": [
    {
     "data": {
      "text/plain": [
       "frozenset({1, 2, 3, 4, 5})"
      ]
     },
     "execution_count": 70,
     "metadata": {},
     "output_type": "execute_result"
    }
   ],
   "source": [
    "fs = frozenset([1,2,3,4,5])  ## set,tuple,list can be passed\n",
    "fs"
   ]
  },
  {
   "cell_type": "markdown",
   "id": "c431c628-97da-4898-af38-2b259d90067f",
   "metadata": {},
   "source": [
    "### What Works and what not??"
   ]
  },
  {
   "cell_type": "code",
   "execution_count": 75,
   "id": "2ae57a1c-8fa6-413c-b0ae-8a04fcbeaea6",
   "metadata": {},
   "outputs": [
    {
     "name": "stdout",
     "output_type": "stream",
     "text": [
      "frozenset({1, 2, 3, 4, 5, 6, 7})\n"
     ]
    }
   ],
   "source": [
    "## sets ke saare read function will work\n",
    "f1 = frozenset((1,2,3,4))\n",
    "f2 = frozenset((4,5,6,7))\n",
    "print(f1.union(f2))\n",
    "## sets ke saare write functions wont work"
   ]
  },
  {
   "cell_type": "code",
   "execution_count": 76,
   "id": "79bb191a-b91b-444d-ac8b-d32952092977",
   "metadata": {},
   "outputs": [
    {
     "name": "stdout",
     "output_type": "stream",
     "text": [
      "frozenset({1, 2, 3, 4, 5, frozenset({1, 2}), frozenset({1, 2, 3})})\n",
      "frozenset({1, 2, 3, 4, 5, frozenset({1, 2, 3})})\n"
     ]
    }
   ],
   "source": [
    "## 2D frozenset sets\n",
    "f2 = frozenset({1,2,3,4,5,frozenset([1,2,3]),frozenset([1,2])})\n",
    "f3 = frozenset({1,2,3,4,5,frozenset([1,2,3])})\n",
    "print(f2)\n",
    "print(f3)"
   ]
  },
  {
   "cell_type": "markdown",
   "id": "e3a27afc-46ce-421c-a53e-2afa7eb9fb5c",
   "metadata": {},
   "source": [
    "## Set Comprehension"
   ]
  },
  {
   "cell_type": "code",
   "execution_count": 86,
   "id": "bae9baed-0a34-4d87-bd33-82f1b621ed66",
   "metadata": {},
   "outputs": [
    {
     "name": "stdout",
     "output_type": "stream",
     "text": [
      "{24, 18, 12, 6}\n"
     ]
    }
   ],
   "source": [
    "set1 = { i*6 for i in range(1,11) if i < 5}\n",
    "print(set1)"
   ]
  },
  {
   "cell_type": "markdown",
   "id": "51c5b696-feb1-4aab-af79-68ad1342901c",
   "metadata": {},
   "source": [
    "# Dictionary\n",
    "- Dictionary in python is collection of key values, used to store data values like a map, which unlike other datatypes which can store only a single values as element.\n",
    "- In some langauages it is known as map or associative aarrays\n",
    "- dict = {'name': 'aditya', 'age':20, 'gender':'male}\n",
    "\n",
    "## Characteristics\n",
    "- Mutable\n",
    "- Indexing has no meaning\n",
    "- key cant be duplicated\n",
    "- key cant be mutable item (set,list)"
   ]
  },
  {
   "cell_type": "markdown",
   "id": "0b344052-fdf8-499b-8b72-b6912e58064b",
   "metadata": {},
   "source": [
    "## Creating a Dictionary"
   ]
  },
  {
   "cell_type": "code",
   "execution_count": 10,
   "id": "31348439-ebef-4bc4-887d-073ccbbd9e5b",
   "metadata": {},
   "outputs": [
    {
     "name": "stdout",
     "output_type": "stream",
     "text": [
      "{}\n",
      "<class 'dict'>\n",
      "{'name': 'aditya', 'surname': 'yadav'}\n",
      "{(1, 2, 3, 4): 1, 'name': 'aditya', 1: 5.0}\n",
      "{'name': 'aditya', 'clg': 'BSE inst', 'sem': 6, 'subj': {'sql': 88, 'python': 67, 'ml': 94}, 'total_score': 700}\n",
      "{'score': 89, 1: 1, 'name': 'adi'}\n",
      "{'name': 'rani'}\n",
      "{'name': {1, 2, 3}}\n"
     ]
    }
   ],
   "source": [
    "## Empty Dict\n",
    "d1 = {}\n",
    "print(d1)\n",
    "print(type(d1))\n",
    "\n",
    "## 1d dictionary   (name is key and aditya is value)\n",
    "d2 = {'name':'aditya','surname':'yadav'}\n",
    "print(d2)\n",
    "\n",
    "## With mixed key\n",
    "d3 = {(1,2,3,4):1,'name':'aditya',1:5.0}\n",
    "print(d3)\n",
    "\n",
    "## 2D Dictionary \n",
    "d4 = {\n",
    "    'name':'aditya',\n",
    "    'clg':'BSE inst',\n",
    "    'sem':6,\n",
    "    'subj':{\n",
    "        'sql':88,\n",
    "        'python':67,\n",
    "        'ml': 94\n",
    "    },\n",
    "    'total_score':700\n",
    "}\n",
    "print(d4)\n",
    "\n",
    "## Using seq and dict function\n",
    "d5 = dict({('name','adi'),('score',89),(1,1)})   ## can be passed as set,list,tuple\n",
    "print(d5)\n",
    "\n",
    "## duplicate keys\n",
    "d6 = {'name':'Raja','name':'rani'}\n",
    "print(d6)\n",
    "\n",
    "## Mutable item as key\n",
    "# d7 = {[1,2,3,4]:\"List\",(1,2,3,4):'tuple'}\n",
    "# print(d7)\n",
    "\n",
    "d8 = {'name':{1,2,3}}   ## values can be of any collection\n",
    "print(d8)"
   ]
  },
  {
   "cell_type": "markdown",
   "id": "5aca4cc1-04bb-4573-8b27-95cab537ffcc",
   "metadata": {},
   "source": [
    "## Accessing an element"
   ]
  },
  {
   "cell_type": "code",
   "execution_count": 110,
   "id": "b43f95cb-40d8-46b7-9c23-bdcc6709723e",
   "metadata": {},
   "outputs": [
    {
     "name": "stdout",
     "output_type": "stream",
     "text": [
      "aditya\n",
      "67\n"
     ]
    }
   ],
   "source": [
    "d1 = {'name': 'aditya','age':20}\n",
    "\n",
    "## Slicing or Indexing does not work here instead we pass key in []\n",
    "# d1[0]\n",
    "\n",
    "## []\n",
    "print(d1['name'])\n",
    "\n",
    "## Get()\n",
    "d1.get('age')\n",
    "\n",
    "## 2D \n",
    "d4 = {\n",
    "    'name':'aditya',\n",
    "    'clg':'BSE inst',\n",
    "    'sem':6,\n",
    "    'subj':{\n",
    "        'sql':88,\n",
    "        'python':67,\n",
    "        'ml': 94\n",
    "    },\n",
    "    'total_score':700\n",
    "}\n",
    "## access python score\n",
    "print(d4['subj']['python'])"
   ]
  },
  {
   "cell_type": "markdown",
   "id": "883bdb6c-da2b-4bff-bd25-665b6a657a54",
   "metadata": {},
   "source": [
    "## Adding a key value pair"
   ]
  },
  {
   "cell_type": "code",
   "execution_count": 111,
   "id": "df845101-d688-4b3b-acc4-52420d98b923",
   "metadata": {},
   "outputs": [
    {
     "name": "stdout",
     "output_type": "stream",
     "text": [
      "{'name': 'aditya', 'surname': 'yadav', 'age': 20}\n",
      "{'name': 'aditya', 'surname': 'yadav', 'age': 20, 'weight': 65, 'hobby': 'chess'}\n",
      "{'name': 'aditya', 'clg': 'BSE inst', 'sem': 6, 'subj': {'sql': 88, 'python': 67, 'ml': 94, 'fc': 65}, 'total_score': 700}\n"
     ]
    }
   ],
   "source": [
    "d1 = {'name':'aditya','surname':'yadav','age':20}\n",
    "print(d1)\n",
    "d1['weight'] = 65\n",
    "d1['hobby'] = 'chess'\n",
    "print(d1)\n",
    "\n",
    "\n",
    "## 2D \n",
    "d4 = {\n",
    "    'name':'aditya',\n",
    "    'clg':'BSE inst',\n",
    "    'sem':6,\n",
    "    'subj':{\n",
    "        'sql':88,\n",
    "        'python':67,\n",
    "        'ml': 94\n",
    "    },\n",
    "    'total_score':700\n",
    "}\n",
    "## add a new key-value pair in subject-fc\n",
    "d4['subj']['fc']=65\n",
    "print(d4)"
   ]
  },
  {
   "cell_type": "markdown",
   "id": "977c11fa-fabf-4ced-97ee-23aef205da58",
   "metadata": {},
   "source": [
    "## Removing Key-Value pairs"
   ]
  },
  {
   "cell_type": "code",
   "execution_count": 12,
   "id": "b8dab831-8114-4cfb-bccf-4c2f60b8bf6f",
   "metadata": {},
   "outputs": [
    {
     "name": "stdout",
     "output_type": "stream",
     "text": [
      "{'surname': 'yadav', 'age': 20, 'weight': 65, 'hobby': 'chess'}\n",
      "{}\n",
      "{'name': 'aditya', 'clg': 'BSE inst', 'sem': 6, 'subj': {'sql': 88, 'python': 67}, 'total_score': 700}\n"
     ]
    }
   ],
   "source": [
    "d1 = {'name':'aditya','surname':'yadav', 'age': 20,'weight': 65,'hobby': 'chess'}\n",
    "## pop \n",
    "# d1.pop('name')\n",
    "# print(d1)\n",
    "\n",
    "# popitem()  ##takes no argument\n",
    "# d1.popitem()\n",
    "# print(d1)\n",
    "\n",
    "# del (partial deletion can work)\n",
    "# del d1\n",
    "# print(d1)\n",
    "# del d1['name']\n",
    "# print(d1)\n",
    "\n",
    "## Clear\n",
    "d1.clear()\n",
    "print(d1)\n",
    "\n",
    "\n",
    "## 2D \n",
    "d4 = {\n",
    "    'name':'aditya',\n",
    "    'clg':'BSE inst',\n",
    "    'sem':6,\n",
    "    'subj':{\n",
    "        'sql':88,\n",
    "        'python':67,\n",
    "        'ml': 94\n",
    "    },\n",
    "    'total_score':700\n",
    "}\n",
    "## del ml\n",
    "del d4['subj']['ml']\n",
    "print(d4)"
   ]
  },
  {
   "cell_type": "markdown",
   "id": "096694dc-0782-45f5-b426-05d8c24ef7f4",
   "metadata": {},
   "source": [
    "## Editing values in dict"
   ]
  },
  {
   "cell_type": "code",
   "execution_count": 123,
   "id": "e38c0855-9d76-4843-aef8-b292d88edb9b",
   "metadata": {},
   "outputs": [
    {
     "name": "stdout",
     "output_type": "stream",
     "text": [
      "{'name': 'aditya', 'clg': 'BSE inst', 'sem': 7, 'subj': {'sql': 88, 'python': 67, 'ml': 94}, 'total_score': 700}\n",
      "{'name': 'aditya', 'clg': 'BSE inst', 'sem': 7, 'subj': {'sql': 88, 'python': 99, 'ml': 94}, 'total_score': 700}\n"
     ]
    }
   ],
   "source": [
    "d4 = {\n",
    "    'name':'aditya',\n",
    "    'clg':'BSE inst',\n",
    "    'sem':6,\n",
    "    'subj':{\n",
    "        'sql':88,\n",
    "        'python':67,\n",
    "        'ml': 94\n",
    "    },\n",
    "    'total_score':700\n",
    "}\n",
    "## sem -7\n",
    "d4['sem']=7\n",
    "print(d4)\n",
    "\n",
    "## python score from 67 to 99\n",
    "d4['subj']['python']=99\n",
    "print(d4)"
   ]
  },
  {
   "cell_type": "markdown",
   "id": "67d4b32c-331b-44fa-80f1-f3634f972c24",
   "metadata": {},
   "source": [
    "## Dictionary Operations"
   ]
  },
  {
   "cell_type": "code",
   "execution_count": 13,
   "id": "2caff1f6-b2f5-436a-bf93-14b1ffe36380",
   "metadata": {},
   "outputs": [
    {
     "name": "stdout",
     "output_type": "stream",
     "text": [
      "True\n",
      "False\n",
      "name\n",
      "surname\n",
      "**************************************************\n",
      "name aditya\n",
      "surname yadav\n"
     ]
    }
   ],
   "source": [
    "## Membership    (its all about keys)\n",
    "d1 = {'name':'aditya','surname':'yadav'}\n",
    "print('name' in d1)\n",
    "print('aditya' in d1)\n",
    "\n",
    "## Loops\n",
    "for i in d1:\n",
    "    print(i)  ## keys\n",
    "\n",
    "print(\"*\"*50)\n",
    "\n",
    "## if values\n",
    "for i in d1:\n",
    "    print(i,d1[i])"
   ]
  },
  {
   "cell_type": "markdown",
   "id": "d243cff9-3d0b-48d1-930b-df961ee70d34",
   "metadata": {},
   "source": [
    "## dictionary Functions"
   ]
  },
  {
   "cell_type": "code",
   "execution_count": 136,
   "id": "47245d95-f5e9-4a2e-a5ae-d60cd661662f",
   "metadata": {},
   "outputs": [
    {
     "name": "stdout",
     "output_type": "stream",
     "text": [
      "5\n",
      "clg\n",
      "total_score\n",
      "['clg', 'name', 'sem', 'subj', 'total_score']\n",
      "['total_score', 'subj', 'sem', 'name', 'clg']\n"
     ]
    }
   ],
   "source": [
    "d4 = {\n",
    "    'name':'aditya',\n",
    "    'clg':'BSE inst',\n",
    "    'sem':6,\n",
    "    'subj':{\n",
    "        'sql':88,\n",
    "        'python':67,\n",
    "        'ml': 94\n",
    "    },\n",
    "    'total_score':700\n",
    "}\n",
    "\n",
    "## len\n",
    "print(len(d4))\n",
    "\n",
    "## min \n",
    "print(min(d4))   # based on ascii\n",
    "\n",
    "## max\n",
    "print(max(d4))\n",
    "\n",
    "##sorted\n",
    "print(sorted(d4))\n",
    "print(sorted(d4,reverse=True))"
   ]
  },
  {
   "cell_type": "code",
   "execution_count": 140,
   "id": "fa008f98-57dc-4ea4-a70b-9a9bf2facfd9",
   "metadata": {},
   "outputs": [
    {
     "name": "stdout",
     "output_type": "stream",
     "text": [
      "dict_items([('name', 'aditya'), ('clg', 'BSE inst'), ('sem', 6), ('subj', {'sql': 88, 'python': 67, 'ml': 94}), ('total_score', 700)])\n",
      "dict_keys(['name', 'clg', 'sem', 'subj', 'total_score'])\n",
      "dict_values(['aditya', 'BSE inst', 6, {'sql': 88, 'python': 67, 'ml': 94}, 700])\n"
     ]
    }
   ],
   "source": [
    "## Items\n",
    "print(d4.items())   ## list of tuple with key and values\n",
    "\n",
    "## keys\n",
    "print(d4.keys())\n",
    "\n",
    "## values\n",
    "print(d4.values())"
   ]
  },
  {
   "cell_type": "code",
   "execution_count": 143,
   "id": "e3216439-e80a-4eb8-b5e9-dc31eb2befcc",
   "metadata": {},
   "outputs": [
    {
     "name": "stdout",
     "output_type": "stream",
     "text": [
      "{1: 1, 2: 3, 4: 9, 6: 0}\n"
     ]
    }
   ],
   "source": [
    "## update\n",
    "d1 = {1:1,2:3,4:5,6:7}\n",
    "d2 = {4:9,6:0}\n",
    "d1.update(d2)\n",
    "print(d1)"
   ]
  },
  {
   "cell_type": "markdown",
   "id": "288775ba-a16c-4820-bc75-6b27cbb4b4c6",
   "metadata": {},
   "source": [
    "## Dictionary Comprehension\n",
    "- syntax- {key:value for var in iteration}"
   ]
  },
  {
   "cell_type": "code",
   "execution_count": 148,
   "id": "55354b21-bd1a-406d-ba92-a897b1e47caf",
   "metadata": {},
   "outputs": [
    {
     "data": {
      "text/plain": [
       "{1: 1, 2: 4, 3: 9, 4: 16, 5: 25, 6: 36, 7: 49, 8: 64, 9: 81, 10: 100}"
      ]
     },
     "execution_count": 148,
     "metadata": {},
     "output_type": "execute_result"
    }
   ],
   "source": [
    "## print 1st 10 numbers ad their squares\n",
    "{i:i**2 for i in range(1,11) }"
   ]
  },
  {
   "cell_type": "code",
   "execution_count": 152,
   "id": "7e136816-bf43-4db3-8d27-e1faf2d739dc",
   "metadata": {},
   "outputs": [
    {
     "data": {
      "text/plain": [
       "dict_items([('delhi', 400), ('mumbai', 500), ('chennai', 800)])"
      ]
     },
     "execution_count": 152,
     "metadata": {},
     "output_type": "execute_result"
    }
   ],
   "source": [
    "distances = {'delhi':400,'mumbai':500,'chennai':800}\n",
    "distances.items()"
   ]
  },
  {
   "cell_type": "code",
   "execution_count": 151,
   "id": "3261c706-1277-42d5-b63d-4c2a44679504",
   "metadata": {},
   "outputs": [
    {
     "data": {
      "text/plain": [
       "{'delhi': 256.0, 'mumbai': 320.0, 'chennai': 512.0}"
      ]
     },
     "execution_count": 151,
     "metadata": {},
     "output_type": "execute_result"
    }
   ],
   "source": [
    "## using existing dict\n",
    "distances = {'delhi':400,'mumbai':500,'chennai':800}\n",
    "{i:j*0.64 for i,j in distances.items()}"
   ]
  },
  {
   "cell_type": "code",
   "execution_count": 154,
   "id": "833e7c00-e915-4620-b9f0-93a12a6a457a",
   "metadata": {},
   "outputs": [
    {
     "name": "stdout",
     "output_type": "stream",
     "text": [
      "{'sunday': 23.7, 'monday': 44.5, 'tuesday': 33.3, 'wednesday': 23.6, 'thursday': 47.8, 'friday': 51.2, 'saturday': 18.7}\n"
     ]
    }
   ],
   "source": [
    "## using zip \n",
    "days = ['sunday','monday','tuesday','wednesday','thursday','friday','saturday']\n",
    "temp_C = [23.7,44.5,33.3,23.6,47.8,51.2,18.7]\n",
    "dict1 = {i:j for i,j in zip(days,temp_C)}\n",
    "print(dict1)"
   ]
  },
  {
   "cell_type": "code",
   "execution_count": 158,
   "id": "685d1733-6d0f-4c7f-8bfc-8fe551aff77c",
   "metadata": {},
   "outputs": [
    {
     "name": "stdout",
     "output_type": "stream",
     "text": [
      "{'phone': 10, 'charager': 12}\n"
     ]
    }
   ],
   "source": [
    "## using if condition\n",
    "products = {'phone':10,'laptop':0,'charager':12,'tablet':0}\n",
    "dict1 = {key:value for key,value in products.items() if value >0}\n",
    "print(dict1)"
   ]
  },
  {
   "cell_type": "code",
   "execution_count": 163,
   "id": "1884631f-045f-4809-b838-fd8c58964c5a",
   "metadata": {},
   "outputs": [
    {
     "name": "stdout",
     "output_type": "stream",
     "text": [
      "2\n",
      "4\n",
      "6\n",
      "8\n",
      "10\n",
      "12\n",
      "14\n",
      "16\n",
      "18\n",
      "20\n",
      "**************************************************\n",
      "3\n",
      "6\n",
      "9\n",
      "12\n",
      "15\n",
      "18\n",
      "21\n",
      "24\n",
      "27\n",
      "30\n",
      "**************************************************\n",
      "4\n",
      "8\n",
      "12\n",
      "16\n",
      "20\n",
      "24\n",
      "28\n",
      "32\n",
      "36\n",
      "40\n",
      "**************************************************\n"
     ]
    },
    {
     "data": {
      "text/plain": [
       "{2: {1: 2, 2: 4, 3: 6, 4: 8, 5: 10, 6: 12, 7: 14, 8: 16, 9: 18, 10: 20},\n",
       " 3: {1: 3, 2: 6, 3: 9, 4: 12, 5: 15, 6: 18, 7: 21, 8: 24, 9: 27, 10: 30},\n",
       " 4: {1: 4, 2: 8, 3: 12, 4: 16, 5: 20, 6: 24, 7: 28, 8: 32, 9: 36, 10: 40}}"
      ]
     },
     "execution_count": 163,
     "metadata": {},
     "output_type": "execute_result"
    }
   ],
   "source": [
    "## Nested Comprehension\n",
    "## print table of 2 to 4\n",
    "for i in range(2,5):\n",
    "    for j in range(1,11):\n",
    "        print(i*j)\n",
    "    print(\"*\"*50)\n",
    "\n",
    "{j:{i:i*j for i in range(1,11)} for j in range(2,5)}"
   ]
  },
  {
   "cell_type": "code",
   "execution_count": null,
   "id": "7fe61c39-812f-4b1a-8ddc-3f4ab8a783f8",
   "metadata": {},
   "outputs": [],
   "source": []
  },
  {
   "cell_type": "code",
   "execution_count": null,
   "id": "2ae2bc5b-abe7-49d1-9005-9d7c01ba7e7c",
   "metadata": {},
   "outputs": [],
   "source": []
  }
 ],
 "metadata": {
  "kernelspec": {
   "display_name": "Python 3 (ipykernel)",
   "language": "python",
   "name": "python3"
  },
  "language_info": {
   "codemirror_mode": {
    "name": "ipython",
    "version": 3
   },
   "file_extension": ".py",
   "mimetype": "text/x-python",
   "name": "python",
   "nbconvert_exporter": "python",
   "pygments_lexer": "ipython3",
   "version": "3.13.1"
  }
 },
 "nbformat": 4,
 "nbformat_minor": 5
}
